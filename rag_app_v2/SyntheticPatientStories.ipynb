{
 "cells": [
  {
   "cell_type": "code",
   "execution_count": 99,
   "id": "f05f53e3-b08e-4eb9-ba30-7fbfb7f54471",
   "metadata": {},
   "outputs": [],
   "source": [
    "import openai\n",
    "import os\n",
    "from openai import AzureOpenAI\n",
    "import json\n",
    "import pandas as pd"
   ]
  },
  {
   "cell_type": "code",
   "execution_count": 118,
   "id": "fcb51429-d629-4ebf-a4bb-7f53e14edd45",
   "metadata": {},
   "outputs": [],
   "source": [
    "azure_openai_endpoint=\"https://pagmarketingopenai.openai.azure.com/\"\n",
    "#\"https://pagmarketingdemov2.openai.azure.com/\"\n",
    "azure_openai=\"0c5adeb8121b4602b3e0735ba4a06ef9\"\n",
    "#\"02f634fe573b4c52a0f74f2dead5c3b8\"\n",
    "azure_openai_engine=\"pagmarketinggpt\"\n",
    "#\"paggpt4\""
   ]
  },
  {
   "cell_type": "code",
   "execution_count": 25,
   "id": "d30a2f68-024b-452f-994f-1de4b8339abc",
   "metadata": {},
   "outputs": [],
   "source": [
    "# openai.api_type = \"azure\"\n",
    "# openai.api_base = azure_openai_endpoint\n",
    "# openai.api_version = \"2023-03-15-preview\"\n",
    "# openai.api_key = azure_openai"
   ]
  },
  {
   "cell_type": "code",
   "execution_count": 121,
   "id": "5d474cee-f064-4d6f-862f-9d4ebe2046fc",
   "metadata": {},
   "outputs": [],
   "source": [
    "client = AzureOpenAI(\n",
    "    # defaults to os.environ.get(\"OPENAI_API_KEY\")\n",
    "    api_key = azure_openai,\n",
    "    api_version = \"2023-03-15-preview\",\n",
    "    azure_endpoint = azure_openai_endpoint\n",
    ")"
   ]
  },
  {
   "cell_type": "code",
   "execution_count": 123,
   "id": "81295bb7-74cb-42e6-b36f-0e8588dfdc75",
   "metadata": {},
   "outputs": [],
   "source": [
    "response = client.chat.completions.create(\n",
    "    model=azure_openai_engine,\n",
    "    messages = [{\"role\": \"user\", \"content\": \"Hello!\"}],\n",
    "    temperature=0.7,\n",
    "    max_tokens=800,\n",
    "    top_p=0.95,\n",
    "    frequency_penalty=0,\n",
    "    presence_penalty=0,\n",
    "    stop=None\n",
    ")\n",
    "    "
   ]
  },
  {
   "cell_type": "code",
   "execution_count": 36,
   "id": "2537eb1a-00f1-40b6-a90b-3ed228490e1f",
   "metadata": {},
   "outputs": [],
   "source": [
    "# response = openai.ChatCompletion.create(\n",
    "#     engine=azure_openai_engine,\n",
    "#     messages = [{\"role\": \"user\", \"content\": \"Hello!\"}],\n",
    "#     temperature=0.7,\n",
    "#     max_tokens=800,\n",
    "#     top_p=0.95,\n",
    "#     frequency_penalty=0,\n",
    "#     presence_penalty=0,\n",
    "#     stop=None)"
   ]
  },
  {
   "cell_type": "code",
   "execution_count": 64,
   "id": "57e44423-8b90-4bfb-b611-85f9660811a4",
   "metadata": {},
   "outputs": [],
   "source": [
    "prompt = \"Write a patient narrative for kidney cancer patient. Include various events, drugs, treatments. Write casually. Include some statements on how the patient feels. Respond in JSON with patient name and patient narrative\""
   ]
  },
  {
   "cell_type": "code",
   "execution_count": 65,
   "id": "033ac6b4-1eef-4a47-819d-2a2b403a10d0",
   "metadata": {},
   "outputs": [],
   "source": [
    "response = client.chat.completions.create(\n",
    "    model=azure_openai_engine,\n",
    "    messages = [{\"role\": \"user\", \"content\": prompt}],\n",
    "    temperature=0.7,\n",
    "    max_tokens=2000,\n",
    "    top_p=0.95,\n",
    "    frequency_penalty=0,\n",
    "    presence_penalty=0,\n",
    "    stop=None\n",
    ")"
   ]
  },
  {
   "cell_type": "code",
   "execution_count": 66,
   "id": "d9a5960b-9acc-4804-b8ce-2bc184430852",
   "metadata": {},
   "outputs": [
    {
     "data": {
      "text/plain": [
       "'{\\n  \"patient_name\": \"John Doe\",\\n  \"patient_narrative\": [\\n    \"Hi, I\\'m John. I was diagnosed with kidney cancer two years ago. It was surreal, like being in a bad dream. At first, I felt overwhelmed but I decided to fight it head on.\",\\n    \"After my diagnosis, I was immediately put on medication. My doctor prescribed Sutent, a targeted therapy drug that comes in a capsule form. I take it once a day. It\\'s hard to remember sometimes, but I\\'ve set alarms to keep track.\",\\n    \"The side effects of Sutent are tough. I often experience fatigue, diarrhea, and skin discoloration. It\\'s a difficult balance - wanting the drug to kill the cancer cells but also dealing with the side effects.\",\\n    \"I also had to undergo surgery to remove the tumor. The recovery was tough, I was bedridden for a few weeks. But, my family was supportive and that helped a lot.\",\\n    \"After the surgery, I had to start on chemotherapy. I was on a cocktail of drugs including Gemzar and Xeloda. The chemo made me nauseous and I lost quite a bit of weight. It was a challenging period, but I was determined to get through it.\",\\n    \"Recently, my doctor suggested I try a new type of therapy called immunotherapy. I\\'m on a drug called Opdivo now. It\\'s supposed to boost my immune system to fight the cancer. I\\'ve only been on it for a few weeks, so it\\'s too soon to tell how it\\'s working.\",\\n    \"Living with kidney cancer is a roller coaster. Some days, I feel hopeful. Other days, I\\'m scared. But, I\\'m grateful for the support from my family and doctors. I\\'m not giving up. I\\'m determined to beat this.\"\\n  ]\\n}'"
      ]
     },
     "execution_count": 66,
     "metadata": {},
     "output_type": "execute_result"
    }
   ],
   "source": [
    "response.choices[0].message.content"
   ]
  },
  {
   "cell_type": "code",
   "execution_count": 71,
   "id": "7a879486-e5a9-42cd-9f87-3c445ee930a5",
   "metadata": {},
   "outputs": [
    {
     "data": {
      "text/plain": [
       "dict_keys(['patient_name', 'patient_narrative'])"
      ]
     },
     "execution_count": 71,
     "metadata": {},
     "output_type": "execute_result"
    }
   ],
   "source": [
    "json.loads(response.choices[0].message.content)"
   ]
  },
  {
   "cell_type": "code",
   "execution_count": 112,
   "id": "1550487b-2e0b-4cc1-9dad-9ff9189a4201",
   "metadata": {},
   "outputs": [],
   "source": [
    "prompt = \"Write a patient narrative for kidney cancer patient. Include various events, drugs, treatments. Write casually. Include some statements on how the patient feels. Include a patient name at he begining of the narrative\""
   ]
  },
  {
   "cell_type": "code",
   "execution_count": null,
   "id": "ecbf9d72-47a7-4f30-9865-354632a502ce",
   "metadata": {},
   "outputs": [],
   "source": []
  },
  {
   "cell_type": "code",
   "execution_count": 138,
   "id": "ea76c1c0-58af-459b-a65d-1cdcb9bb32c7",
   "metadata": {},
   "outputs": [],
   "source": [
    "# stories = []\n",
    "# format_issues = []\n",
    "# count = 0\n",
    "names = []"
   ]
  },
  {
   "cell_type": "code",
   "execution_count": 139,
   "id": "ea89ea59-9d8e-47fb-8e2d-53c85f065507",
   "metadata": {},
   "outputs": [
    {
     "name": "stdout",
     "output_type": "stream",
     "text": [
      "Done 60\n",
      "Done 70\n",
      "Done 80\n",
      "Done 90\n",
      "Done 100\n"
     ]
    }
   ],
   "source": [
    "for i in range(0, 50):\n",
    "    count = count + 1\n",
    "    \n",
    "    # response = client.chat.completions.create(\n",
    "    #                 model=azure_openai_engine,\n",
    "    #                 messages = [{\"role\": \"user\", \"content\": prompt}],\n",
    "    #                 temperature=1.0,\n",
    "    #                 max_tokens=5000,\n",
    "    #                 top_p=0.95,\n",
    "    #                 frequency_penalty=0,\n",
    "    #                 presence_penalty=0,\n",
    "    #                 stop=None\n",
    "    #         )\n",
    "    # story = response.choices[0].message.content\n",
    "    story = stories[i]\n",
    "    # try:\n",
    "    #     json_story = json.loads(response.choices[0].message.content)\n",
    "    # except:\n",
    "    #     format_issues.append(story)\n",
    "    \n",
    "    #stories.append(story)\n",
    "    response = client.chat.completions.create(\n",
    "                model=azure_openai_engine,\n",
    "                messages = [{\"role\": \"user\", \"content\": \"What's the patient name in the following story?\" + story}],\n",
    "                temperature=1.0,\n",
    "                max_tokens=200,\n",
    "                top_p=0.95,\n",
    "                frequency_penalty=0,\n",
    "                presence_penalty=0,\n",
    "                stop=None\n",
    "        )\n",
    "    name = response.choices[0].message.content\n",
    "    names.append(name)\n",
    "    #json_story = \"\"\n",
    "    if count%10 == 0:\n",
    "        print(\"Done \" + str(count))\n",
    "    "
   ]
  },
  {
   "cell_type": "code",
   "execution_count": 152,
   "id": "ec42ccf6-3a14-4aaf-8f90-083fea39ad30",
   "metadata": {},
   "outputs": [],
   "source": [
    "name_clean = [name.replace(\"The patient's name is \", \"\").replace(\"The patient name in the story is\",\"\").replace(\"The patient's name in the story is\",\"\").replace(\"The patient's name in this story is \",\"\").replace(\"Patient Name: \",\"\").replace(\"The patient name is \",\"\").strip() for name in names]"
   ]
  },
  {
   "cell_type": "code",
   "execution_count": 153,
   "id": "1c3ef439-cb1c-46b4-87e1-8cf6855cf1fb",
   "metadata": {},
   "outputs": [
    {
     "data": {
      "text/plain": [
       "['Sarah.',\n",
       " 'Sarah.',\n",
       " 'Sarah.',\n",
       " 'Emily.',\n",
       " 'Samantha.',\n",
       " 'Sarah.',\n",
       " 'Jessica.',\n",
       " 'Sarah.',\n",
       " 'Mary.',\n",
       " 'Sarah.',\n",
       " 'Samantha.',\n",
       " 'Sarah.',\n",
       " 'Samantha.',\n",
       " 'Lisa',\n",
       " 'John.',\n",
       " 'Sarah.',\n",
       " 'Sarah.',\n",
       " 'Susan Johnson.',\n",
       " 'Sarah.',\n",
       " 'Sarah.',\n",
       " 'Sarah.',\n",
       " 'John.',\n",
       " 'Sarah.',\n",
       " 'John.',\n",
       " 'Sarah.',\n",
       " 'Samantha.',\n",
       " 'Lisa.',\n",
       " 'Rachel.',\n",
       " 'John Smith.',\n",
       " 'Sarah.',\n",
       " 'John.',\n",
       " 'John.',\n",
       " 'Samantha.',\n",
       " 'Sarah.',\n",
       " 'Sarah.',\n",
       " 'Emily.',\n",
       " 'John.',\n",
       " 'Maria.',\n",
       " 'Jane.',\n",
       " 'Sarah.',\n",
       " 'John.',\n",
       " 'Samantha.',\n",
       " 'Sarah.',\n",
       " 'Sara.',\n",
       " 'Jane.',\n",
       " 'Linda.',\n",
       " 'John.',\n",
       " 'Sarah.',\n",
       " 'John.',\n",
       " 'Samantha.']"
      ]
     },
     "execution_count": 153,
     "metadata": {},
     "output_type": "execute_result"
    }
   ],
   "source": [
    "name_clean"
   ]
  },
  {
   "cell_type": "code",
   "execution_count": 42,
   "id": "70f169b9-b370-4891-b2ce-3c8c9272d297",
   "metadata": {},
   "outputs": [],
   "source": [
    "# response = openai.ChatCompletion.create(engine=os.environ['azure_openai_engine'],\n",
    "#                                         messages = [{\"role\": \"user\", \"content\": prompt}],\n",
    "#                                         temperature=0.7,\n",
    "#                                         max_tokens=800,\n",
    "#                                         top_p=0.95,\n",
    "#                                         frequency_penalty=0,\n",
    "#                                         presence_penalty=0,\n",
    "#                                         stop=None)\n",
    "# #result = response.choices[0][\"message\"][\"content\"]"
   ]
  },
  {
   "cell_type": "code",
   "execution_count": 126,
   "id": "fae1830a-df04-4b80-9bea-1ccf8f4427fa",
   "metadata": {},
   "outputs": [
    {
     "data": {
      "text/plain": [
       "50"
      ]
     },
     "execution_count": 126,
     "metadata": {},
     "output_type": "execute_result"
    }
   ],
   "source": [
    "len(stories)"
   ]
  },
  {
   "cell_type": "code",
   "execution_count": 135,
   "id": "3d0d7bd6-d867-4fdd-bcbe-17034a12c51c",
   "metadata": {},
   "outputs": [
    {
     "data": {
      "text/plain": [
       "'Meet Sarah. Sarah has been feeling fatigued for a few weeks now, but has been attributing it to her busy schedule. But when she started experiencing back pain, she decided to pay her doctor a visit. After a series of tests, she received the news that no one wants to hear - she was diagnosed with kidney cancer.\\n\\nFeeling scared and uncertain, Sarah started her journey of treatments and appointments. She underwent surgery to remove the affected kidney and was started on a course of chemotherapy to ensure that any remaining cancer cells were eliminated.\\n\\nDespite the initial shock of the diagnosis, Sarah has been trying to maintain a positive outlook and is taking things one day at a time. Her oncologist has been closely monitoring her progress and has been tweaking her treatment plan based on how she responds to the drugs.\\n\\nSarah’s biggest struggle has been dealing with the side effects of chemotherapy. She has been experiencing nausea, vomiting and hair loss. She also has a weakened immune system which has led to her contracting infections easily. However, she has been fortunate to have a great support system in the form of her family and friends.\\n\\nThroughout it all, Sarah has been determined to not let cancer define her. She continues to work when she can, spend time with her loved ones and focus on the things that bring her joy. She has even started taking up yoga, which has helped her manage her stress levels and cope with the physical changes that her body has been going through.\\n\\nAlthough the road ahead may be challenging, Sarah is optimistic that she will overcome this obstacle and come out stronger on the other side.'"
      ]
     },
     "execution_count": 135,
     "metadata": {},
     "output_type": "execute_result"
    }
   ],
   "source": [
    "stories[20]"
   ]
  },
  {
   "cell_type": "code",
   "execution_count": null,
   "id": "8760a2ad-8ee4-4a7d-8144-478319355538",
   "metadata": {},
   "outputs": [],
   "source": []
  },
  {
   "cell_type": "code",
   "execution_count": 136,
   "id": "8e26255b-19ec-4cc3-bd1e-085928ce261d",
   "metadata": {},
   "outputs": [],
   "source": [
    "df = pd.DataFrame(stories, columns=['Story']) # creating dataframe\n",
    "\n",
    "df.to_csv(\"data/kidney_cancer_stories_v2.txt\")\n",
    "#df_string = df.to_string(header=False, Index= False)\n",
    "# with open('kidney_cancer_stories.txt', 'w+') as f:\n",
    "#     f.write(df_string) "
   ]
  },
  {
   "cell_type": "code",
   "execution_count": 154,
   "id": "74e1bc12-2407-4b87-8c4d-3f8c1fc70def",
   "metadata": {},
   "outputs": [],
   "source": [
    "df['Name'] = names"
   ]
  },
  {
   "cell_type": "code",
   "execution_count": 156,
   "id": "bcd2648a-6d51-4ee0-94a8-30619f20b8b3",
   "metadata": {},
   "outputs": [
    {
     "data": {
      "text/html": [
       "<div>\n",
       "<style scoped>\n",
       "    .dataframe tbody tr th:only-of-type {\n",
       "        vertical-align: middle;\n",
       "    }\n",
       "\n",
       "    .dataframe tbody tr th {\n",
       "        vertical-align: top;\n",
       "    }\n",
       "\n",
       "    .dataframe thead th {\n",
       "        text-align: right;\n",
       "    }\n",
       "</style>\n",
       "<table border=\"1\" class=\"dataframe\">\n",
       "  <thead>\n",
       "    <tr style=\"text-align: right;\">\n",
       "      <th></th>\n",
       "      <th>Story</th>\n",
       "      <th>Name</th>\n",
       "    </tr>\n",
       "  </thead>\n",
       "  <tbody>\n",
       "    <tr>\n",
       "      <th>0</th>\n",
       "      <td>Sarah was diagnosed with kidney cancer three m...</td>\n",
       "      <td>The patient's name is Sarah.</td>\n",
       "    </tr>\n",
       "    <tr>\n",
       "      <th>1</th>\n",
       "      <td>Meet Sarah, a 48-year-old kidney cancer patien...</td>\n",
       "      <td>The patient name in the story is Sarah.</td>\n",
       "    </tr>\n",
       "  </tbody>\n",
       "</table>\n",
       "</div>"
      ],
      "text/plain": [
       "                                               Story  \\\n",
       "0  Sarah was diagnosed with kidney cancer three m...   \n",
       "1  Meet Sarah, a 48-year-old kidney cancer patien...   \n",
       "\n",
       "                                      Name  \n",
       "0             The patient's name is Sarah.  \n",
       "1  The patient name in the story is Sarah.  "
      ]
     },
     "execution_count": 156,
     "metadata": {},
     "output_type": "execute_result"
    }
   ],
   "source": [
    "df.head(2)"
   ]
  },
  {
   "cell_type": "code",
   "execution_count": 157,
   "id": "79686585-a8c1-4d00-89bc-1d53efd1c3f7",
   "metadata": {},
   "outputs": [],
   "source": [
    "df.to_csv(\"data/kidney_cancer_stories_v2.txt\")"
   ]
  }
 ],
 "metadata": {
  "kernelspec": {
   "display_name": "Python 3 (ipykernel)",
   "language": "python",
   "name": "python3"
  },
  "language_info": {
   "codemirror_mode": {
    "name": "ipython",
    "version": 3
   },
   "file_extension": ".py",
   "mimetype": "text/x-python",
   "name": "python",
   "nbconvert_exporter": "python",
   "pygments_lexer": "ipython3",
   "version": "3.11.4"
  }
 },
 "nbformat": 4,
 "nbformat_minor": 5
}
