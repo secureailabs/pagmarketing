{
 "cells": [
  {
   "cell_type": "code",
   "execution_count": 4,
   "metadata": {},
   "outputs": [
    {
     "name": "stdout",
     "output_type": "stream",
     "text": [
      "Requirement already satisfied: openai in ./venv/lib/python3.11/site-packages (1.3.2)\n",
      "Requirement already satisfied: anyio<4,>=3.5.0 in ./venv/lib/python3.11/site-packages (from openai) (3.7.1)\n",
      "Requirement already satisfied: distro<2,>=1.7.0 in ./venv/lib/python3.11/site-packages (from openai) (1.8.0)\n",
      "Requirement already satisfied: httpx<1,>=0.23.0 in ./venv/lib/python3.11/site-packages (from openai) (0.25.1)\n",
      "Requirement already satisfied: pydantic<3,>=1.9.0 in ./venv/lib/python3.11/site-packages (from openai) (2.5.1)\n",
      "Requirement already satisfied: tqdm>4 in ./venv/lib/python3.11/site-packages (from openai) (4.66.1)\n",
      "Requirement already satisfied: typing-extensions<5,>=4.5 in ./venv/lib/python3.11/site-packages (from openai) (4.8.0)\n",
      "Requirement already satisfied: idna>=2.8 in ./venv/lib/python3.11/site-packages (from anyio<4,>=3.5.0->openai) (3.4)\n",
      "Requirement already satisfied: sniffio>=1.1 in ./venv/lib/python3.11/site-packages (from anyio<4,>=3.5.0->openai) (1.3.0)\n",
      "Requirement already satisfied: certifi in ./venv/lib/python3.11/site-packages (from httpx<1,>=0.23.0->openai) (2023.7.22)\n",
      "Requirement already satisfied: httpcore in ./venv/lib/python3.11/site-packages (from httpx<1,>=0.23.0->openai) (1.0.2)\n",
      "Requirement already satisfied: annotated-types>=0.4.0 in ./venv/lib/python3.11/site-packages (from pydantic<3,>=1.9.0->openai) (0.6.0)\n",
      "Requirement already satisfied: pydantic-core==2.14.3 in ./venv/lib/python3.11/site-packages (from pydantic<3,>=1.9.0->openai) (2.14.3)\n",
      "Requirement already satisfied: h11<0.15,>=0.13 in ./venv/lib/python3.11/site-packages (from httpcore->httpx<1,>=0.23.0->openai) (0.14.0)\n",
      "Requirement already satisfied: langchain in ./venv/lib/python3.11/site-packages (0.0.336)\n",
      "Requirement already satisfied: PyYAML>=5.3 in ./venv/lib/python3.11/site-packages (from langchain) (6.0.1)\n",
      "Requirement already satisfied: SQLAlchemy<3,>=1.4 in ./venv/lib/python3.11/site-packages (from langchain) (2.0.23)\n",
      "Requirement already satisfied: aiohttp<4.0.0,>=3.8.3 in ./venv/lib/python3.11/site-packages (from langchain) (3.8.6)\n",
      "Requirement already satisfied: anyio<4.0 in ./venv/lib/python3.11/site-packages (from langchain) (3.7.1)\n",
      "Requirement already satisfied: dataclasses-json<0.7,>=0.5.7 in ./venv/lib/python3.11/site-packages (from langchain) (0.6.2)\n",
      "Requirement already satisfied: jsonpatch<2.0,>=1.33 in ./venv/lib/python3.11/site-packages (from langchain) (1.33)\n",
      "Requirement already satisfied: langsmith<0.1.0,>=0.0.63 in ./venv/lib/python3.11/site-packages (from langchain) (0.0.64)\n",
      "Requirement already satisfied: numpy<2,>=1 in ./venv/lib/python3.11/site-packages (from langchain) (1.26.2)\n",
      "Requirement already satisfied: pydantic<3,>=1 in ./venv/lib/python3.11/site-packages (from langchain) (2.5.1)\n",
      "Requirement already satisfied: requests<3,>=2 in ./venv/lib/python3.11/site-packages (from langchain) (2.31.0)\n",
      "Requirement already satisfied: tenacity<9.0.0,>=8.1.0 in ./venv/lib/python3.11/site-packages (from langchain) (8.2.3)\n",
      "Requirement already satisfied: attrs>=17.3.0 in ./venv/lib/python3.11/site-packages (from aiohttp<4.0.0,>=3.8.3->langchain) (23.1.0)\n",
      "Requirement already satisfied: charset-normalizer<4.0,>=2.0 in ./venv/lib/python3.11/site-packages (from aiohttp<4.0.0,>=3.8.3->langchain) (3.3.2)\n",
      "Requirement already satisfied: multidict<7.0,>=4.5 in ./venv/lib/python3.11/site-packages (from aiohttp<4.0.0,>=3.8.3->langchain) (6.0.4)\n",
      "Requirement already satisfied: async-timeout<5.0,>=4.0.0a3 in ./venv/lib/python3.11/site-packages (from aiohttp<4.0.0,>=3.8.3->langchain) (4.0.3)\n",
      "Requirement already satisfied: yarl<2.0,>=1.0 in ./venv/lib/python3.11/site-packages (from aiohttp<4.0.0,>=3.8.3->langchain) (1.9.2)\n",
      "Requirement already satisfied: frozenlist>=1.1.1 in ./venv/lib/python3.11/site-packages (from aiohttp<4.0.0,>=3.8.3->langchain) (1.4.0)\n",
      "Requirement already satisfied: aiosignal>=1.1.2 in ./venv/lib/python3.11/site-packages (from aiohttp<4.0.0,>=3.8.3->langchain) (1.3.1)\n",
      "Requirement already satisfied: idna>=2.8 in ./venv/lib/python3.11/site-packages (from anyio<4.0->langchain) (3.4)\n",
      "Requirement already satisfied: sniffio>=1.1 in ./venv/lib/python3.11/site-packages (from anyio<4.0->langchain) (1.3.0)\n",
      "Requirement already satisfied: marshmallow<4.0.0,>=3.18.0 in ./venv/lib/python3.11/site-packages (from dataclasses-json<0.7,>=0.5.7->langchain) (3.20.1)\n",
      "Requirement already satisfied: typing-inspect<1,>=0.4.0 in ./venv/lib/python3.11/site-packages (from dataclasses-json<0.7,>=0.5.7->langchain) (0.9.0)\n",
      "Requirement already satisfied: jsonpointer>=1.9 in ./venv/lib/python3.11/site-packages (from jsonpatch<2.0,>=1.33->langchain) (2.4)\n",
      "Requirement already satisfied: annotated-types>=0.4.0 in ./venv/lib/python3.11/site-packages (from pydantic<3,>=1->langchain) (0.6.0)\n",
      "Requirement already satisfied: pydantic-core==2.14.3 in ./venv/lib/python3.11/site-packages (from pydantic<3,>=1->langchain) (2.14.3)\n",
      "Requirement already satisfied: typing-extensions>=4.6.1 in ./venv/lib/python3.11/site-packages (from pydantic<3,>=1->langchain) (4.8.0)\n",
      "Requirement already satisfied: urllib3<3,>=1.21.1 in ./venv/lib/python3.11/site-packages (from requests<3,>=2->langchain) (2.1.0)\n",
      "Requirement already satisfied: certifi>=2017.4.17 in ./venv/lib/python3.11/site-packages (from requests<3,>=2->langchain) (2023.7.22)\n",
      "Requirement already satisfied: packaging>=17.0 in ./venv/lib/python3.11/site-packages (from marshmallow<4.0.0,>=3.18.0->dataclasses-json<0.7,>=0.5.7->langchain) (23.2)\n",
      "Requirement already satisfied: mypy-extensions>=0.3.0 in ./venv/lib/python3.11/site-packages (from typing-inspect<1,>=0.4.0->dataclasses-json<0.7,>=0.5.7->langchain) (1.0.0)\n",
      "Collecting weaviate-client==3.*\n",
      "  Downloading weaviate_client-3.25.3-py3-none-any.whl.metadata (3.4 kB)\n",
      "Requirement already satisfied: requests<3.0.0,>=2.30.0 in ./venv/lib/python3.11/site-packages (from weaviate-client==3.*) (2.31.0)\n",
      "Collecting validators<1.0.0,>=0.21.2 (from weaviate-client==3.*)\n",
      "  Downloading validators-0.22.0-py3-none-any.whl.metadata (4.7 kB)\n",
      "Collecting authlib<2.0.0,>=1.2.1 (from weaviate-client==3.*)\n",
      "  Downloading Authlib-1.2.1-py2.py3-none-any.whl.metadata (3.8 kB)\n",
      "Collecting cryptography>=3.2 (from authlib<2.0.0,>=1.2.1->weaviate-client==3.*)\n",
      "  Downloading cryptography-41.0.5-cp37-abi3-macosx_10_12_universal2.whl.metadata (5.2 kB)\n",
      "Requirement already satisfied: charset-normalizer<4,>=2 in ./venv/lib/python3.11/site-packages (from requests<3.0.0,>=2.30.0->weaviate-client==3.*) (3.3.2)\n",
      "Requirement already satisfied: idna<4,>=2.5 in ./venv/lib/python3.11/site-packages (from requests<3.0.0,>=2.30.0->weaviate-client==3.*) (3.4)\n",
      "Requirement already satisfied: urllib3<3,>=1.21.1 in ./venv/lib/python3.11/site-packages (from requests<3.0.0,>=2.30.0->weaviate-client==3.*) (2.1.0)\n",
      "Requirement already satisfied: certifi>=2017.4.17 in ./venv/lib/python3.11/site-packages (from requests<3.0.0,>=2.30.0->weaviate-client==3.*) (2023.7.22)\n",
      "Requirement already satisfied: cffi>=1.12 in ./venv/lib/python3.11/site-packages (from cryptography>=3.2->authlib<2.0.0,>=1.2.1->weaviate-client==3.*) (1.16.0)\n",
      "Requirement already satisfied: pycparser in ./venv/lib/python3.11/site-packages (from cffi>=1.12->cryptography>=3.2->authlib<2.0.0,>=1.2.1->weaviate-client==3.*) (2.21)\n",
      "Downloading weaviate_client-3.25.3-py3-none-any.whl (120 kB)\n",
      "\u001b[2K   \u001b[90m━━━━━━━━━━━━━━━━━━━━━━━━━━━━━━━━━━━━━━━━\u001b[0m \u001b[32m120.3/120.3 kB\u001b[0m \u001b[31m2.3 MB/s\u001b[0m eta \u001b[36m0:00:00\u001b[0m \u001b[36m0:00:01\u001b[0m\n",
      "\u001b[?25hDownloading Authlib-1.2.1-py2.py3-none-any.whl (215 kB)\n",
      "\u001b[2K   \u001b[90m━━━━━━━━━━━━━━━━━━━━━━━━━━━━━━━━━━━━━━━━\u001b[0m \u001b[32m215.3/215.3 kB\u001b[0m \u001b[31m4.1 MB/s\u001b[0m eta \u001b[36m0:00:00\u001b[0ma \u001b[36m0:00:01\u001b[0m\n",
      "\u001b[?25hDownloading validators-0.22.0-py3-none-any.whl (26 kB)\n",
      "Downloading cryptography-41.0.5-cp37-abi3-macosx_10_12_universal2.whl (5.4 MB)\n",
      "\u001b[2K   \u001b[90m━━━━━━━━━━━━━━━━━━━━━━━━━━━━━━━━━━━━━━━━\u001b[0m \u001b[32m5.4/5.4 MB\u001b[0m \u001b[31m4.5 MB/s\u001b[0m eta \u001b[36m0:00:00\u001b[0m00:01\u001b[0m00:01\u001b[0m\n",
      "\u001b[?25hInstalling collected packages: validators, cryptography, authlib, weaviate-client\n",
      "Successfully installed authlib-1.2.1 cryptography-41.0.5 validators-0.22.0 weaviate-client-3.25.3\n",
      "Collecting sentence-transformers\n",
      "  Using cached sentence_transformers-2.2.2-py3-none-any.whl\n",
      "Requirement already satisfied: transformers<5.0.0,>=4.6.0 in ./venv/lib/python3.11/site-packages (from sentence-transformers) (4.30.0)\n",
      "Requirement already satisfied: tqdm in ./venv/lib/python3.11/site-packages (from sentence-transformers) (4.66.1)\n",
      "Requirement already satisfied: torch>=1.6.0 in ./venv/lib/python3.11/site-packages (from sentence-transformers) (2.1.1)\n",
      "Collecting torchvision (from sentence-transformers)\n",
      "  Downloading torchvision-0.16.1-cp311-cp311-macosx_11_0_arm64.whl.metadata (6.6 kB)\n",
      "Requirement already satisfied: numpy in ./venv/lib/python3.11/site-packages (from sentence-transformers) (1.26.2)\n",
      "Collecting scikit-learn (from sentence-transformers)\n",
      "  Downloading scikit_learn-1.3.2-cp311-cp311-macosx_12_0_arm64.whl.metadata (11 kB)\n",
      "Requirement already satisfied: scipy in ./venv/lib/python3.11/site-packages (from sentence-transformers) (1.11.3)\n",
      "Collecting nltk (from sentence-transformers)\n",
      "  Downloading nltk-3.8.1-py3-none-any.whl (1.5 MB)\n",
      "\u001b[2K     \u001b[90m━━━━━━━━━━━━━━━━━━━━━━━━━━━━━━━━━━━━━━━━\u001b[0m \u001b[32m1.5/1.5 MB\u001b[0m \u001b[31m3.3 MB/s\u001b[0m eta \u001b[36m0:00:00\u001b[0m00:01\u001b[0m00:01\u001b[0m\n",
      "\u001b[?25hCollecting sentencepiece (from sentence-transformers)\n",
      "  Downloading sentencepiece-0.1.99-cp311-cp311-macosx_11_0_arm64.whl (1.2 MB)\n",
      "\u001b[2K     \u001b[90m━━━━━━━━━━━━━━━━━━━━━━━━━━━━━━━━━━━━━━━━\u001b[0m \u001b[32m1.2/1.2 MB\u001b[0m \u001b[31m3.7 MB/s\u001b[0m eta \u001b[36m0:00:00\u001b[0ma \u001b[36m0:00:01\u001b[0m\n",
      "\u001b[?25hRequirement already satisfied: huggingface-hub>=0.4.0 in ./venv/lib/python3.11/site-packages (from sentence-transformers) (0.19.4)\n",
      "Requirement already satisfied: filelock in ./venv/lib/python3.11/site-packages (from huggingface-hub>=0.4.0->sentence-transformers) (3.13.1)\n",
      "Requirement already satisfied: fsspec>=2023.5.0 in ./venv/lib/python3.11/site-packages (from huggingface-hub>=0.4.0->sentence-transformers) (2023.10.0)\n",
      "Requirement already satisfied: requests in ./venv/lib/python3.11/site-packages (from huggingface-hub>=0.4.0->sentence-transformers) (2.31.0)\n",
      "Requirement already satisfied: pyyaml>=5.1 in ./venv/lib/python3.11/site-packages (from huggingface-hub>=0.4.0->sentence-transformers) (6.0.1)\n",
      "Requirement already satisfied: typing-extensions>=3.7.4.3 in ./venv/lib/python3.11/site-packages (from huggingface-hub>=0.4.0->sentence-transformers) (4.8.0)\n",
      "Requirement already satisfied: packaging>=20.9 in ./venv/lib/python3.11/site-packages (from huggingface-hub>=0.4.0->sentence-transformers) (23.2)\n",
      "Requirement already satisfied: sympy in ./venv/lib/python3.11/site-packages (from torch>=1.6.0->sentence-transformers) (1.12)\n",
      "Requirement already satisfied: networkx in ./venv/lib/python3.11/site-packages (from torch>=1.6.0->sentence-transformers) (3.2.1)\n",
      "Requirement already satisfied: jinja2 in ./venv/lib/python3.11/site-packages (from torch>=1.6.0->sentence-transformers) (3.1.2)\n",
      "Requirement already satisfied: regex!=2019.12.17 in ./venv/lib/python3.11/site-packages (from transformers<5.0.0,>=4.6.0->sentence-transformers) (2023.10.3)\n",
      "Requirement already satisfied: tokenizers!=0.11.3,<0.14,>=0.11.1 in ./venv/lib/python3.11/site-packages (from transformers<5.0.0,>=4.6.0->sentence-transformers) (0.13.3)\n",
      "Requirement already satisfied: safetensors>=0.3.1 in ./venv/lib/python3.11/site-packages (from transformers<5.0.0,>=4.6.0->sentence-transformers) (0.4.0)\n",
      "Collecting click (from nltk->sentence-transformers)\n",
      "  Downloading click-8.1.7-py3-none-any.whl.metadata (3.0 kB)\n",
      "Collecting joblib (from nltk->sentence-transformers)\n",
      "  Downloading joblib-1.3.2-py3-none-any.whl.metadata (5.4 kB)\n",
      "Collecting threadpoolctl>=2.0.0 (from scikit-learn->sentence-transformers)\n",
      "  Downloading threadpoolctl-3.2.0-py3-none-any.whl.metadata (10.0 kB)\n",
      "Collecting pillow!=8.3.*,>=5.3.0 (from torchvision->sentence-transformers)\n",
      "  Downloading Pillow-10.1.0-cp311-cp311-macosx_11_0_arm64.whl.metadata (9.5 kB)\n",
      "Requirement already satisfied: MarkupSafe>=2.0 in ./venv/lib/python3.11/site-packages (from jinja2->torch>=1.6.0->sentence-transformers) (2.1.3)\n",
      "Requirement already satisfied: charset-normalizer<4,>=2 in ./venv/lib/python3.11/site-packages (from requests->huggingface-hub>=0.4.0->sentence-transformers) (3.3.2)\n",
      "Requirement already satisfied: idna<4,>=2.5 in ./venv/lib/python3.11/site-packages (from requests->huggingface-hub>=0.4.0->sentence-transformers) (3.4)\n",
      "Requirement already satisfied: urllib3<3,>=1.21.1 in ./venv/lib/python3.11/site-packages (from requests->huggingface-hub>=0.4.0->sentence-transformers) (2.1.0)\n",
      "Requirement already satisfied: certifi>=2017.4.17 in ./venv/lib/python3.11/site-packages (from requests->huggingface-hub>=0.4.0->sentence-transformers) (2023.7.22)\n",
      "Requirement already satisfied: mpmath>=0.19 in ./venv/lib/python3.11/site-packages (from sympy->torch>=1.6.0->sentence-transformers) (1.3.0)\n",
      "Downloading scikit_learn-1.3.2-cp311-cp311-macosx_12_0_arm64.whl (9.4 MB)\n",
      "\u001b[2K   \u001b[90m━━━━━━━━━━━━━━━━━━━━━━━━━━━━━━━━━━━━━━━━\u001b[0m \u001b[32m9.4/9.4 MB\u001b[0m \u001b[31m4.1 MB/s\u001b[0m eta \u001b[36m0:00:00\u001b[0m00:01\u001b[0m00:01\u001b[0m\n",
      "\u001b[?25hDownloading torchvision-0.16.1-cp311-cp311-macosx_11_0_arm64.whl (1.5 MB)\n",
      "\u001b[2K   \u001b[90m━━━━━━━━━━━━━━━━━━━━━━━━━━━━━━━━━━━━━━━━\u001b[0m \u001b[32m1.5/1.5 MB\u001b[0m \u001b[31m4.5 MB/s\u001b[0m eta \u001b[36m0:00:00\u001b[0m00:01\u001b[0m00:01\u001b[0m\n",
      "\u001b[?25hDownloading joblib-1.3.2-py3-none-any.whl (302 kB)\n",
      "\u001b[2K   \u001b[90m━━━━━━━━━━━━━━━━━━━━━━━━━━━━━━━━━━━━━━━━\u001b[0m \u001b[32m302.2/302.2 kB\u001b[0m \u001b[31m3.3 MB/s\u001b[0m eta \u001b[36m0:00:00\u001b[0m00:01\u001b[0m00:01\u001b[0m\n",
      "\u001b[?25hDownloading Pillow-10.1.0-cp311-cp311-macosx_11_0_arm64.whl (3.3 MB)\n",
      "\u001b[2K   \u001b[90m━━━━━━━━━━━━━━━━━━━━━━━━━━━━━━━━━━━━━━━━\u001b[0m \u001b[32m3.3/3.3 MB\u001b[0m \u001b[31m4.4 MB/s\u001b[0m eta \u001b[36m0:00:00\u001b[0m00:01\u001b[0m00:01\u001b[0m\n",
      "\u001b[?25hDownloading threadpoolctl-3.2.0-py3-none-any.whl (15 kB)\n",
      "Downloading click-8.1.7-py3-none-any.whl (97 kB)\n",
      "\u001b[2K   \u001b[90m━━━━━━━━━━━━━━━━━━━━━━━━━━━━━━━━━━━━━━━━\u001b[0m \u001b[32m97.9/97.9 kB\u001b[0m \u001b[31m2.5 MB/s\u001b[0m eta \u001b[36m0:00:00\u001b[0m\n",
      "\u001b[?25hInstalling collected packages: sentencepiece, threadpoolctl, pillow, joblib, click, scikit-learn, nltk, torchvision, sentence-transformers\n",
      "Successfully installed click-8.1.7 joblib-1.3.2 nltk-3.8.1 pillow-10.1.0 scikit-learn-1.3.2 sentence-transformers-2.2.2 sentencepiece-0.1.99 threadpoolctl-3.2.0 torchvision-0.16.1\n",
      "Collecting tiktoken\n",
      "  Downloading tiktoken-0.5.1-cp311-cp311-macosx_11_0_arm64.whl.metadata (6.6 kB)\n",
      "Requirement already satisfied: regex>=2022.1.18 in ./venv/lib/python3.11/site-packages (from tiktoken) (2023.10.3)\n",
      "Requirement already satisfied: requests>=2.26.0 in ./venv/lib/python3.11/site-packages (from tiktoken) (2.31.0)\n",
      "Requirement already satisfied: charset-normalizer<4,>=2 in ./venv/lib/python3.11/site-packages (from requests>=2.26.0->tiktoken) (3.3.2)\n",
      "Requirement already satisfied: idna<4,>=2.5 in ./venv/lib/python3.11/site-packages (from requests>=2.26.0->tiktoken) (3.4)\n",
      "Requirement already satisfied: urllib3<3,>=1.21.1 in ./venv/lib/python3.11/site-packages (from requests>=2.26.0->tiktoken) (2.1.0)\n",
      "Requirement already satisfied: certifi>=2017.4.17 in ./venv/lib/python3.11/site-packages (from requests>=2.26.0->tiktoken) (2023.7.22)\n",
      "Downloading tiktoken-0.5.1-cp311-cp311-macosx_11_0_arm64.whl (924 kB)\n",
      "\u001b[2K   \u001b[90m━━━━━━━━━━━━━━━━━━━━━━━━━━━━━━━━━━━━━━━━\u001b[0m \u001b[32m924.4/924.4 kB\u001b[0m \u001b[31m3.1 MB/s\u001b[0m eta \u001b[36m0:00:00\u001b[0m00:01\u001b[0m00:01\u001b[0m\n",
      "\u001b[?25hInstalling collected packages: tiktoken\n",
      "Successfully installed tiktoken-0.5.1\n"
     ]
    }
   ],
   "source": [
    "!pip install openai\n",
    "!pip install langchain\n",
    "!pip install \"weaviate-client==3.*\"\n",
    "!pip install sentence-transformers\n",
    "!pip install tiktoken"
   ]
  },
  {
   "cell_type": "code",
   "execution_count": 45,
   "metadata": {},
   "outputs": [],
   "source": [
    "import langchain"
   ]
  },
  {
   "cell_type": "code",
   "execution_count": 46,
   "metadata": {},
   "outputs": [
    {
     "data": {
      "text/plain": [
       "'0.0.336'"
      ]
     },
     "execution_count": 46,
     "metadata": {},
     "output_type": "execute_result"
    }
   ],
   "source": [
    "langchain.__version__"
   ]
  },
  {
   "cell_type": "code",
   "execution_count": null,
   "metadata": {},
   "outputs": [],
   "source": []
  },
  {
   "cell_type": "code",
   "execution_count": 29,
   "metadata": {},
   "outputs": [],
   "source": [
    "import openai\n",
    "import weaviate\n",
    "import pandas as pd\n",
    "#from google.colab import drive\n",
    "from langchain.embeddings import HuggingFaceEmbeddings\n",
    "from langchain.text_splitter import TokenTextSplitter\n",
    "from langchain.vectorstores import Weaviate\n",
    "from langchain.chains import RetrievalQA\n",
    "from langchain.agents.types import AgentType\n",
    "from langchain.agents import AgentExecutor, Tool,initialize_agent\n",
    "from langchain.memory import ConversationBufferMemory\n",
    "from langchain.chat_models import AzureChatOpenAI\n",
    "from langchain.retrievers import WeaviateHybridSearchRetriever"
   ]
  },
  {
   "cell_type": "code",
   "execution_count": 17,
   "metadata": {},
   "outputs": [],
   "source": [
    "azure_openai_endpoint=\"https://pagmarketingopenai.openai.azure.com/\"\n",
    "#\"https://pagmarketingdemov2.openai.azure.com/\"\n",
    "azure_openai=\"0c5adeb8121b4602b3e0735ba4a06ef9\"\n",
    "#\"02f634fe573b4c52a0f74f2dead5c3b8\"\n",
    "azure_openai_engine=\"pagmarketinggpt\""
   ]
  },
  {
   "cell_type": "code",
   "execution_count": 18,
   "metadata": {
    "id": "-0tanbAJAcoe"
   },
   "outputs": [],
   "source": [
    "llm = AzureChatOpenAI(\n",
    "    # defaults to os.environ.get(\"OPENAI_API_KEY\")\n",
    "    api_key = azure_openai,\n",
    "    api_version = \"2023-03-15-preview\",\n",
    "    azure_endpoint = azure_openai_endpoint,\n",
    "    model=azure_openai_engine,\n",
    "    temperature=0.7,\n",
    "    max_tokens=800,\n",
    ")"
   ]
  },
  {
   "cell_type": "code",
   "execution_count": null,
   "metadata": {
    "id": "RNnrM3elwhZP"
   },
   "outputs": [],
   "source": []
  },
  {
   "cell_type": "code",
   "execution_count": 65,
   "metadata": {
    "id": "YeGvI0TKwmOq"
   },
   "outputs": [],
   "source": [
    "WEAVIATE_URL = \"https://ragtestarray-4gihzxpr.weaviate.network\"\n",
    "WEAVIATE_API_KEY = \"7E0Vf7POMdgUkpQfEHj5hPMpfUtPxNCNIisB\"\n",
    "\n",
    "client = weaviate.Client(\n",
    "    url=WEAVIATE_URL, auth_client_secret=weaviate.AuthApiKey(WEAVIATE_API_KEY),\n",
    ")"
   ]
  },
  {
   "cell_type": "code",
   "execution_count": 53,
   "metadata": {},
   "outputs": [],
   "source": [
    "temp_1 = []\n",
    "for name in [\"flu\", \"hpv\"]:\n",
    "    df = pd.read_csv('data/scrape_' + name + '.csv', index_col=0)\n",
    "    temp_1.append(df)"
   ]
  },
  {
   "cell_type": "code",
   "execution_count": 54,
   "metadata": {},
   "outputs": [],
   "source": [
    "data_new = pd.concat(temp_1)"
   ]
  },
  {
   "cell_type": "code",
   "execution_count": 55,
   "metadata": {},
   "outputs": [
    {
     "data": {
      "text/html": [
       "<div>\n",
       "<style scoped>\n",
       "    .dataframe tbody tr th:only-of-type {\n",
       "        vertical-align: middle;\n",
       "    }\n",
       "\n",
       "    .dataframe tbody tr th {\n",
       "        vertical-align: top;\n",
       "    }\n",
       "\n",
       "    .dataframe thead th {\n",
       "        text-align: right;\n",
       "    }\n",
       "</style>\n",
       "<table border=\"1\" class=\"dataframe\">\n",
       "  <thead>\n",
       "    <tr style=\"text-align: right;\">\n",
       "      <th></th>\n",
       "      <th>id</th>\n",
       "      <th>type</th>\n",
       "      <th>author</th>\n",
       "      <th>subreddit</th>\n",
       "      <th>created_at</th>\n",
       "      <th>content</th>\n",
       "    </tr>\n",
       "  </thead>\n",
       "  <tbody>\n",
       "    <tr>\n",
       "      <th>0</th>\n",
       "      <td>k8lq6b4</td>\n",
       "      <td>comment</td>\n",
       "      <td>sp00kens_</td>\n",
       "      <td>texts</td>\n",
       "      <td>1699589290</td>\n",
       "      <td>Sorry dude. She literally said she didn’t see ...</td>\n",
       "    </tr>\n",
       "    <tr>\n",
       "      <th>1</th>\n",
       "      <td>k8ks91w</td>\n",
       "      <td>comment</td>\n",
       "      <td>sp00kens_</td>\n",
       "      <td>deadbydaylight</td>\n",
       "      <td>1699574872</td>\n",
       "      <td>Yea I think the ranking system is weird. I don...</td>\n",
       "    </tr>\n",
       "  </tbody>\n",
       "</table>\n",
       "</div>"
      ],
      "text/plain": [
       "        id     type     author       subreddit  created_at  \\\n",
       "0  k8lq6b4  comment  sp00kens_           texts  1699589290   \n",
       "1  k8ks91w  comment  sp00kens_  deadbydaylight  1699574872   \n",
       "\n",
       "                                             content  \n",
       "0  Sorry dude. She literally said she didn’t see ...  \n",
       "1  Yea I think the ranking system is weird. I don...  "
      ]
     },
     "execution_count": 55,
     "metadata": {},
     "output_type": "execute_result"
    }
   ],
   "source": [
    "data_new.head(2)"
   ]
  },
  {
   "cell_type": "code",
   "execution_count": 13,
   "metadata": {
    "id": "IxVFb8eSxIjC"
   },
   "outputs": [],
   "source": [
    "temp = []\n",
    "for name in [\"data/kidney_cancer_stories_v2.txt\", \"data/cd_stories_v2.txt\", \"data/hcl_stories_v2.txt\", \"data/hpv_stories_v2.txt\"]:\n",
    "    data = pd.read_csv(name, index_col=0)\n",
    "    temp.append(data)"
   ]
  },
  {
   "cell_type": "code",
   "execution_count": 14,
   "metadata": {},
   "outputs": [],
   "source": [
    "data = pd.concat(temp)"
   ]
  },
  {
   "cell_type": "code",
   "execution_count": 15,
   "metadata": {
    "colab": {
     "base_uri": "https://localhost:8080/",
     "height": 206
    },
    "id": "scAf--pcw7ED",
    "outputId": "b64eb6f6-a167-4ad0-a87c-266e886dff73"
   },
   "outputs": [
    {
     "data": {
      "text/html": [
       "<div>\n",
       "<style scoped>\n",
       "    .dataframe tbody tr th:only-of-type {\n",
       "        vertical-align: middle;\n",
       "    }\n",
       "\n",
       "    .dataframe tbody tr th {\n",
       "        vertical-align: top;\n",
       "    }\n",
       "\n",
       "    .dataframe thead th {\n",
       "        text-align: right;\n",
       "    }\n",
       "</style>\n",
       "<table border=\"1\" class=\"dataframe\">\n",
       "  <thead>\n",
       "    <tr style=\"text-align: right;\">\n",
       "      <th></th>\n",
       "      <th>Story</th>\n",
       "      <th>Name</th>\n",
       "    </tr>\n",
       "  </thead>\n",
       "  <tbody>\n",
       "    <tr>\n",
       "      <th>0</th>\n",
       "      <td>Sarah was diagnosed with kidney cancer three m...</td>\n",
       "      <td>The patient's name is Sarah.</td>\n",
       "    </tr>\n",
       "    <tr>\n",
       "      <th>1</th>\n",
       "      <td>Meet Sarah, a 48-year-old kidney cancer patien...</td>\n",
       "      <td>The patient name in the story is Sarah.</td>\n",
       "    </tr>\n",
       "    <tr>\n",
       "      <th>2</th>\n",
       "      <td>Meet Sarah. She's a 53-year-old woman who was ...</td>\n",
       "      <td>The patient's name is Sarah.</td>\n",
       "    </tr>\n",
       "    <tr>\n",
       "      <th>3</th>\n",
       "      <td>Emily is a kidney cancer patient who was diagn...</td>\n",
       "      <td>The patient's name is Emily.</td>\n",
       "    </tr>\n",
       "    <tr>\n",
       "      <th>4</th>\n",
       "      <td>Samantha’s journey with kidney cancer began wi...</td>\n",
       "      <td>The patient's name is Samantha.</td>\n",
       "    </tr>\n",
       "  </tbody>\n",
       "</table>\n",
       "</div>"
      ],
      "text/plain": [
       "                                               Story  \\\n",
       "0  Sarah was diagnosed with kidney cancer three m...   \n",
       "1  Meet Sarah, a 48-year-old kidney cancer patien...   \n",
       "2  Meet Sarah. She's a 53-year-old woman who was ...   \n",
       "3  Emily is a kidney cancer patient who was diagn...   \n",
       "4  Samantha’s journey with kidney cancer began wi...   \n",
       "\n",
       "                                      Name  \n",
       "0             The patient's name is Sarah.  \n",
       "1  The patient name in the story is Sarah.  \n",
       "2             The patient's name is Sarah.  \n",
       "3             The patient's name is Emily.  \n",
       "4          The patient's name is Samantha.  "
      ]
     },
     "execution_count": 15,
     "metadata": {},
     "output_type": "execute_result"
    }
   ],
   "source": [
    "data.head()"
   ]
  },
  {
   "cell_type": "code",
   "execution_count": 24,
   "metadata": {},
   "outputs": [],
   "source": [
    "data['Name_clean'] = [name.replace(\"The patient's name is \", \"\").replace(\"The patient name in the story is\",\"\").replace(\"Patient name: \",\"\").replace(\"The patient's name in the story is\",\"\").replace(\"The patient's name in this story is \",\"\").replace(\"Patient Name: \",\"\").replace(\"The patient name is \",\"\").strip() for name in data['Name']]"
   ]
  },
  {
   "cell_type": "code",
   "execution_count": 25,
   "metadata": {},
   "outputs": [
    {
     "data": {
      "text/html": [
       "<div>\n",
       "<style scoped>\n",
       "    .dataframe tbody tr th:only-of-type {\n",
       "        vertical-align: middle;\n",
       "    }\n",
       "\n",
       "    .dataframe tbody tr th {\n",
       "        vertical-align: top;\n",
       "    }\n",
       "\n",
       "    .dataframe thead th {\n",
       "        text-align: right;\n",
       "    }\n",
       "</style>\n",
       "<table border=\"1\" class=\"dataframe\">\n",
       "  <thead>\n",
       "    <tr style=\"text-align: right;\">\n",
       "      <th></th>\n",
       "      <th>Story</th>\n",
       "      <th>Name</th>\n",
       "      <th>Name_clean</th>\n",
       "    </tr>\n",
       "  </thead>\n",
       "  <tbody>\n",
       "    <tr>\n",
       "      <th>0</th>\n",
       "      <td>Sarah was diagnosed with kidney cancer three m...</td>\n",
       "      <td>The patient's name is Sarah.</td>\n",
       "      <td>Sarah.</td>\n",
       "    </tr>\n",
       "    <tr>\n",
       "      <th>1</th>\n",
       "      <td>Meet Sarah, a 48-year-old kidney cancer patien...</td>\n",
       "      <td>The patient name in the story is Sarah.</td>\n",
       "      <td>Sarah.</td>\n",
       "    </tr>\n",
       "    <tr>\n",
       "      <th>2</th>\n",
       "      <td>Meet Sarah. She's a 53-year-old woman who was ...</td>\n",
       "      <td>The patient's name is Sarah.</td>\n",
       "      <td>Sarah.</td>\n",
       "    </tr>\n",
       "    <tr>\n",
       "      <th>3</th>\n",
       "      <td>Emily is a kidney cancer patient who was diagn...</td>\n",
       "      <td>The patient's name is Emily.</td>\n",
       "      <td>Emily.</td>\n",
       "    </tr>\n",
       "    <tr>\n",
       "      <th>4</th>\n",
       "      <td>Samantha’s journey with kidney cancer began wi...</td>\n",
       "      <td>The patient's name is Samantha.</td>\n",
       "      <td>Samantha.</td>\n",
       "    </tr>\n",
       "  </tbody>\n",
       "</table>\n",
       "</div>"
      ],
      "text/plain": [
       "                                               Story  \\\n",
       "0  Sarah was diagnosed with kidney cancer three m...   \n",
       "1  Meet Sarah, a 48-year-old kidney cancer patien...   \n",
       "2  Meet Sarah. She's a 53-year-old woman who was ...   \n",
       "3  Emily is a kidney cancer patient who was diagn...   \n",
       "4  Samantha’s journey with kidney cancer began wi...   \n",
       "\n",
       "                                      Name Name_clean  \n",
       "0             The patient's name is Sarah.     Sarah.  \n",
       "1  The patient name in the story is Sarah.     Sarah.  \n",
       "2             The patient's name is Sarah.     Sarah.  \n",
       "3             The patient's name is Emily.     Emily.  \n",
       "4          The patient's name is Samantha.  Samantha.  "
      ]
     },
     "execution_count": 25,
     "metadata": {},
     "output_type": "execute_result"
    }
   ],
   "source": [
    "data.head()"
   ]
  },
  {
   "cell_type": "code",
   "execution_count": null,
   "metadata": {},
   "outputs": [],
   "source": []
  },
  {
   "cell_type": "code",
   "execution_count": 7,
   "metadata": {
    "id": "DesCKOJ8yBt8"
   },
   "outputs": [
    {
     "name": "stderr",
     "output_type": "stream",
     "text": [
      "/Users/kanchanapadmanabhan/Documents/dev/pagmarketing/rag_app_v2/venv/lib/python3.11/site-packages/huggingface_hub/inference/_text_generation.py:121: PydanticDeprecatedSince20: Pydantic V1 style `@validator` validators are deprecated. You should migrate to Pydantic V2 style `@field_validator` validators, see the migration guide for more details. Deprecated in Pydantic V2.0 to be removed in V3.0. See Pydantic V2 Migration Guide at https://errors.pydantic.dev/2.5/migration/\n",
      "  @validator(\"best_of\")\n",
      "/Users/kanchanapadmanabhan/Documents/dev/pagmarketing/rag_app_v2/venv/lib/python3.11/site-packages/huggingface_hub/inference/_text_generation.py:140: PydanticDeprecatedSince20: Pydantic V1 style `@validator` validators are deprecated. You should migrate to Pydantic V2 style `@field_validator` validators, see the migration guide for more details. Deprecated in Pydantic V2.0 to be removed in V3.0. See Pydantic V2 Migration Guide at https://errors.pydantic.dev/2.5/migration/\n",
      "  @validator(\"repetition_penalty\")\n",
      "/Users/kanchanapadmanabhan/Documents/dev/pagmarketing/rag_app_v2/venv/lib/python3.11/site-packages/huggingface_hub/inference/_text_generation.py:146: PydanticDeprecatedSince20: Pydantic V1 style `@validator` validators are deprecated. You should migrate to Pydantic V2 style `@field_validator` validators, see the migration guide for more details. Deprecated in Pydantic V2.0 to be removed in V3.0. See Pydantic V2 Migration Guide at https://errors.pydantic.dev/2.5/migration/\n",
      "  @validator(\"seed\")\n",
      "/Users/kanchanapadmanabhan/Documents/dev/pagmarketing/rag_app_v2/venv/lib/python3.11/site-packages/huggingface_hub/inference/_text_generation.py:152: PydanticDeprecatedSince20: Pydantic V1 style `@validator` validators are deprecated. You should migrate to Pydantic V2 style `@field_validator` validators, see the migration guide for more details. Deprecated in Pydantic V2.0 to be removed in V3.0. See Pydantic V2 Migration Guide at https://errors.pydantic.dev/2.5/migration/\n",
      "  @validator(\"temperature\")\n",
      "/Users/kanchanapadmanabhan/Documents/dev/pagmarketing/rag_app_v2/venv/lib/python3.11/site-packages/huggingface_hub/inference/_text_generation.py:158: PydanticDeprecatedSince20: Pydantic V1 style `@validator` validators are deprecated. You should migrate to Pydantic V2 style `@field_validator` validators, see the migration guide for more details. Deprecated in Pydantic V2.0 to be removed in V3.0. See Pydantic V2 Migration Guide at https://errors.pydantic.dev/2.5/migration/\n",
      "  @validator(\"top_k\")\n",
      "/Users/kanchanapadmanabhan/Documents/dev/pagmarketing/rag_app_v2/venv/lib/python3.11/site-packages/huggingface_hub/inference/_text_generation.py:164: PydanticDeprecatedSince20: Pydantic V1 style `@validator` validators are deprecated. You should migrate to Pydantic V2 style `@field_validator` validators, see the migration guide for more details. Deprecated in Pydantic V2.0 to be removed in V3.0. See Pydantic V2 Migration Guide at https://errors.pydantic.dev/2.5/migration/\n",
      "  @validator(\"top_p\")\n",
      "/Users/kanchanapadmanabhan/Documents/dev/pagmarketing/rag_app_v2/venv/lib/python3.11/site-packages/huggingface_hub/inference/_text_generation.py:170: PydanticDeprecatedSince20: Pydantic V1 style `@validator` validators are deprecated. You should migrate to Pydantic V2 style `@field_validator` validators, see the migration guide for more details. Deprecated in Pydantic V2.0 to be removed in V3.0. See Pydantic V2 Migration Guide at https://errors.pydantic.dev/2.5/migration/\n",
      "  @validator(\"truncate\")\n",
      "/Users/kanchanapadmanabhan/Documents/dev/pagmarketing/rag_app_v2/venv/lib/python3.11/site-packages/huggingface_hub/inference/_text_generation.py:176: PydanticDeprecatedSince20: Pydantic V1 style `@validator` validators are deprecated. You should migrate to Pydantic V2 style `@field_validator` validators, see the migration guide for more details. Deprecated in Pydantic V2.0 to be removed in V3.0. See Pydantic V2 Migration Guide at https://errors.pydantic.dev/2.5/migration/\n",
      "  @validator(\"typical_p\")\n",
      "/Users/kanchanapadmanabhan/Documents/dev/pagmarketing/rag_app_v2/venv/lib/python3.11/site-packages/huggingface_hub/inference/_text_generation.py:204: PydanticDeprecatedSince20: Pydantic V1 style `@validator` validators are deprecated. You should migrate to Pydantic V2 style `@field_validator` validators, see the migration guide for more details. Deprecated in Pydantic V2.0 to be removed in V3.0. See Pydantic V2 Migration Guide at https://errors.pydantic.dev/2.5/migration/\n",
      "  @validator(\"inputs\")\n",
      "/Users/kanchanapadmanabhan/Documents/dev/pagmarketing/rag_app_v2/venv/lib/python3.11/site-packages/huggingface_hub/inference/_text_generation.py:210: PydanticDeprecatedSince20: Pydantic V1 style `@validator` validators are deprecated. You should migrate to Pydantic V2 style `@field_validator` validators, see the migration guide for more details. Deprecated in Pydantic V2.0 to be removed in V3.0. See Pydantic V2 Migration Guide at https://errors.pydantic.dev/2.5/migration/\n",
      "  @validator(\"stream\")\n"
     ]
    }
   ],
   "source": [
    "embedding_model_name = \"sentence-transformers/all-mpnet-base-v2\"\n",
    "#model_kwargs = {\"device\": \"cuda\"} mps\n",
    "#model_kwargs = {\"device\": \"mps\"}\n",
    "model_kwargs = {}\n",
    "embeddings = HuggingFaceEmbeddings(\n",
    "  model_name=embedding_model_name,\n",
    "  model_kwargs=model_kwargs\n",
    ")"
   ]
  },
  {
   "cell_type": "code",
   "execution_count": 56,
   "metadata": {
    "id": "YFfUbUKB0fzq"
   },
   "outputs": [],
   "source": [
    "text_splitter = TokenTextSplitter(chunk_size=128, chunk_overlap=0)"
   ]
  },
  {
   "cell_type": "code",
   "execution_count": 57,
   "metadata": {
    "id": "SN1I7QeZ_u6w"
   },
   "outputs": [],
   "source": [
    "all_docs_reddit = []\n",
    "# vectors_docs = []\n",
    "count = 0\n",
    "for index, d in data_new.iterrows():\n",
    "    try:\n",
    "        #list_docs = text_splitter.create_documents([d[\"text\"]])\n",
    "        #split = text_splitter.split_documents(list_docs)\n",
    "        try:\n",
    "            # base_docs = text_splitter.split_text(d['headline'] + d[\"text\"])\n",
    "            # list_docs = [d['title'] + '##' + base_docs[i] for i in range(0, len(base_docs))]\n",
    "            base_docs = text_splitter.split_text(d['content'])\n",
    "            list_docs = [d['author'] + '##' + d['subreddit'] + '##' + base_docs[i] for i in range(0, len(base_docs))]\n",
    "            create_docs = text_splitter.create_documents(list_docs)\n",
    "            #split_docs = text_splitter.split_documents(list_docs)\n",
    "\n",
    "        except Exception as e:\n",
    "            #print(e)\n",
    "            list_docs = []\n",
    "            create_docs = []\n",
    "            split_docs = []\n",
    "            continue\n",
    "\n",
    "        # try:\n",
    "        #     vector_list = embeddings.embed_documents(list_docs)\n",
    "        # except:\n",
    "        #     vector_list = []\n",
    "        all_docs_reddit.extend(create_docs)\n",
    "        # vectors_docs.append(vector_list)\n",
    "        count = count + 1\n",
    "    except Exception as  e:\n",
    "        print(e)\n",
    "        continue"
   ]
  },
  {
   "cell_type": "code",
   "execution_count": 58,
   "metadata": {},
   "outputs": [
    {
     "data": {
      "text/plain": [
       "80434"
      ]
     },
     "execution_count": 58,
     "metadata": {},
     "output_type": "execute_result"
    }
   ],
   "source": [
    "len(all_docs_reddit)"
   ]
  },
  {
   "cell_type": "code",
   "execution_count": 26,
   "metadata": {},
   "outputs": [],
   "source": [
    "all_docs = []\n",
    "# vectors_docs = []\n",
    "count = 0\n",
    "for index, d in data.iterrows():\n",
    "    try:\n",
    "        #list_docs = text_splitter.create_documents([d[\"text\"]])\n",
    "        #split = text_splitter.split_documents(list_docs)\n",
    "        try:\n",
    "            # base_docs = text_splitter.split_text(d['headline'] + d[\"text\"])\n",
    "            # list_docs = [d['title'] + '##' + base_docs[i] for i in range(0, len(base_docs))]\n",
    "            base_docs = text_splitter.split_text(d['Story'])\n",
    "            list_docs = [d['Name_clean'] + '##' + base_docs[i] for i in range(0, len(base_docs))]\n",
    "            create_docs = text_splitter.create_documents(list_docs)\n",
    "            #split_docs = text_splitter.split_documents(list_docs)\n",
    "\n",
    "        except Exception as e:\n",
    "            #print(e)\n",
    "            list_docs = []\n",
    "            create_docs = []\n",
    "            split_docs = []\n",
    "            continue\n",
    "\n",
    "        # try:\n",
    "        #     vector_list = embeddings.embed_documents(list_docs)\n",
    "        # except:\n",
    "        #     vector_list = []\n",
    "        all_docs.extend(create_docs)\n",
    "        # vectors_docs.append(vector_list)\n",
    "        count = count + 1\n",
    "    except Exception as  e:\n",
    "        print(e)\n",
    "        continue"
   ]
  },
  {
   "cell_type": "code",
   "execution_count": 27,
   "metadata": {},
   "outputs": [
    {
     "data": {
      "text/plain": [
       "Document(page_content='Sarah.##Sarah was diagnosed with kidney cancer three months ago, after experiencing severe abdominal pain. She had to go through several tests and procedures, but finally got a diagnosis. The news was devastating for Sarah and her family. \\n\\nThe doctor recommended surgery to remove the tumor, which was scheduled a few weeks later. Sarah underwent the procedure successfully, and she felt relieved that the cancer had been removed. However, she experienced some side effects, such as pain, fatigue, and nausea. The doctor prescribed some pain medication and advised her to rest and eat a healthy diet. \\n\\nAfter a few days, Sarah started feeling better')"
      ]
     },
     "execution_count": 27,
     "metadata": {},
     "output_type": "execute_result"
    }
   ],
   "source": [
    "all_docs[0]"
   ]
  },
  {
   "cell_type": "code",
   "execution_count": 32,
   "metadata": {},
   "outputs": [
    {
     "name": "stdout",
     "output_type": "stream",
     "text": [
      "Patient_stories\n"
     ]
    }
   ],
   "source": [
    "for i in client.schema.get()['classes']:\n",
    "    print(i['class'])\n",
    "    #client.schema.delete_class(i['class'])"
   ]
  },
  {
   "cell_type": "code",
   "execution_count": 8,
   "metadata": {},
   "outputs": [],
   "source": [
    "# patient_schema =   {\n",
    "#       \"class\": \"Patient_stories\",\n",
    "#       \"description\": \"A class called document\",\n",
    "#       \"vectorizer\": embeddings,\n",
    "#       }"
   ]
  },
  {
   "cell_type": "code",
   "execution_count": 28,
   "metadata": {
    "id": "W066WsJM_wx5"
   },
   "outputs": [],
   "source": [
    "vector_db_ps = Weaviate.from_documents(\n",
    "    all_docs, client=client, by_text=False,index_name=\"Patient_stories\", embedding=embeddings\n",
    ")"
   ]
  },
  {
   "cell_type": "code",
   "execution_count": 59,
   "metadata": {},
   "outputs": [],
   "source": [
    "def divide_chunks(l, n): \n",
    "      \n",
    "    # looping till length l \n",
    "    for i in range(0, len(l), n):  \n",
    "        yield l[i:i + n] \n"
   ]
  },
  {
   "cell_type": "code",
   "execution_count": 60,
   "metadata": {},
   "outputs": [],
   "source": [
    "# How many elements each \n",
    "# list should have \n",
    "n = 1000\n",
    "  \n",
    "x = list(divide_chunks(all_docs_reddit, n)) "
   ]
  },
  {
   "cell_type": "code",
   "execution_count": 62,
   "metadata": {},
   "outputs": [
    {
     "data": {
      "text/plain": [
       "81"
      ]
     },
     "execution_count": 62,
     "metadata": {},
     "output_type": "execute_result"
    }
   ],
   "source": [
    "len(x)\n"
   ]
  },
  {
   "cell_type": "code",
   "execution_count": 63,
   "metadata": {},
   "outputs": [],
   "source": [
    "count = 0"
   ]
  },
  {
   "cell_type": "code",
   "execution_count": 66,
   "metadata": {},
   "outputs": [
    {
     "name": "stdout",
     "output_type": "stream",
     "text": [
      "Done 2000\n",
      "Done 4000\n",
      "Done 6000\n",
      "Done 8000\n",
      "Done 10000\n",
      "Done 12000\n",
      "Done 14000\n",
      "Done 16000\n",
      "Done 18000\n",
      "Done 20000\n",
      "Done 22000\n",
      "Done 24000\n",
      "Done 26000\n",
      "Done 28000\n",
      "Done 30000\n",
      "Done 32000\n",
      "Done 34000\n",
      "Done 36000\n",
      "Done 38000\n",
      "Done 40000\n",
      "Done 42000\n",
      "Done 44000\n",
      "Done 46000\n",
      "Done 48000\n",
      "Done 50000\n",
      "Done 52000\n",
      "Done 54000\n"
     ]
    },
    {
     "name": "stderr",
     "output_type": "stream",
     "text": [
      "[ERROR] Batch ConnectionError Exception occurred! Retrying in 2s. [1/3]\n"
     ]
    },
    {
     "name": "stdout",
     "output_type": "stream",
     "text": [
      "Done 56000\n",
      "Done 58000\n",
      "Done 60000\n",
      "Done 62000\n",
      "Done 64000\n",
      "Done 66000\n",
      "Done 68000\n",
      "Done 70000\n",
      "Done 72000\n",
      "Done 74000\n",
      "Done 76000\n",
      "Done 78000\n",
      "Done 80000\n"
     ]
    }
   ],
   "source": [
    "for docs in x:\n",
    "    vector_db_reddit = Weaviate.from_documents(\n",
    "        docs, client=client, by_text=False,index_name=\"Reddit_stories\", embedding=embeddings\n",
    "    )\n",
    "    count = count + len(docs)\n",
    "\n",
    "    if count%2000 == 0:\n",
    "        print(\"Done \" + str(count))"
   ]
  },
  {
   "cell_type": "code",
   "execution_count": 51,
   "metadata": {},
   "outputs": [],
   "source": [
    "weaviate_obj = Weaviate(client, \"Patient_stories\", text_key=\"text\")"
   ]
  },
  {
   "cell_type": "code",
   "execution_count": 38,
   "metadata": {},
   "outputs": [],
   "source": [
    "weaviate_obj = Weaviate(client, \"Patient_stories\", text_key=\"text\", embedding=embeddings)"
   ]
  },
  {
   "cell_type": "code",
   "execution_count": 52,
   "metadata": {},
   "outputs": [
    {
     "ename": "ValueError",
     "evalue": "_embedding cannot be None for similarity_search_with_score",
     "output_type": "error",
     "traceback": [
      "\u001b[0;31m---------------------------------------------------------------------------\u001b[0m",
      "\u001b[0;31mValueError\u001b[0m                                Traceback (most recent call last)",
      "Cell \u001b[0;32mIn[52], line 1\u001b[0m\n\u001b[0;32m----> 1\u001b[0m \u001b[43mweaviate_obj\u001b[49m\u001b[38;5;241;43m.\u001b[39;49m\u001b[43msimilarity_search_with_score\u001b[49m\u001b[43m(\u001b[49m\u001b[38;5;124;43m\"\u001b[39;49m\u001b[38;5;124;43mHPV\u001b[39;49m\u001b[38;5;124;43m\"\u001b[39;49m\u001b[43m)\u001b[49m\n",
      "File \u001b[0;32m~/Documents/dev/pagmarketing/rag_app_v2/venv/lib/python3.11/site-packages/langchain/vectorstores/weaviate.py:343\u001b[0m, in \u001b[0;36mWeaviate.similarity_search_with_score\u001b[0;34m(self, query, k, **kwargs)\u001b[0m\n\u001b[1;32m    337\u001b[0m \u001b[38;5;250m\u001b[39m\u001b[38;5;124;03m\"\"\"\u001b[39;00m\n\u001b[1;32m    338\u001b[0m \u001b[38;5;124;03mReturn list of documents most similar to the query\u001b[39;00m\n\u001b[1;32m    339\u001b[0m \u001b[38;5;124;03mtext and cosine distance in float for each.\u001b[39;00m\n\u001b[1;32m    340\u001b[0m \u001b[38;5;124;03mLower score represents more similarity.\u001b[39;00m\n\u001b[1;32m    341\u001b[0m \u001b[38;5;124;03m\"\"\"\u001b[39;00m\n\u001b[1;32m    342\u001b[0m \u001b[38;5;28;01mif\u001b[39;00m \u001b[38;5;28mself\u001b[39m\u001b[38;5;241m.\u001b[39m_embedding \u001b[38;5;129;01mis\u001b[39;00m \u001b[38;5;28;01mNone\u001b[39;00m:\n\u001b[0;32m--> 343\u001b[0m     \u001b[38;5;28;01mraise\u001b[39;00m \u001b[38;5;167;01mValueError\u001b[39;00m(\n\u001b[1;32m    344\u001b[0m         \u001b[38;5;124m\"\u001b[39m\u001b[38;5;124m_embedding cannot be None for similarity_search_with_score\u001b[39m\u001b[38;5;124m\"\u001b[39m\n\u001b[1;32m    345\u001b[0m     )\n\u001b[1;32m    346\u001b[0m content: Dict[\u001b[38;5;28mstr\u001b[39m, Any] \u001b[38;5;241m=\u001b[39m {\u001b[38;5;124m\"\u001b[39m\u001b[38;5;124mconcepts\u001b[39m\u001b[38;5;124m\"\u001b[39m: [query]}\n\u001b[1;32m    347\u001b[0m \u001b[38;5;28;01mif\u001b[39;00m kwargs\u001b[38;5;241m.\u001b[39mget(\u001b[38;5;124m\"\u001b[39m\u001b[38;5;124msearch_distance\u001b[39m\u001b[38;5;124m\"\u001b[39m):\n",
      "\u001b[0;31mValueError\u001b[0m: _embedding cannot be None for similarity_search_with_score"
     ]
    }
   ],
   "source": [
    "weaviate_obj.similarity_search(\"HPV\")"
   ]
  },
  {
   "cell_type": "code",
   "execution_count": 35,
   "metadata": {},
   "outputs": [],
   "source": [
    "# vector_retriever = WeaviateHybridSearchRetriever(\n",
    "#     client=client,\n",
    "#     index_name=\"Patient_stories\",\n",
    "#     text_key=\"text\",\n",
    "#     attributes=[],\n",
    "#     create_schema_if_missing=True,\n",
    "#     k=4\n",
    "    \n",
    "# )"
   ]
  },
  {
   "cell_type": "code",
   "execution_count": null,
   "metadata": {},
   "outputs": [],
   "source": [
    "vector_retriever"
   ]
  },
  {
   "cell_type": "code",
   "execution_count": 209,
   "metadata": {},
   "outputs": [],
   "source": [
    "#weaviate_obj.similarity_search(\"HPV\")\n",
    "#vector_db.as_retriever(search_kwargs={\"k\": 4})"
   ]
  },
  {
   "cell_type": "code",
   "execution_count": 67,
   "metadata": {
    "id": "ymHgfWBLAaEg"
   },
   "outputs": [],
   "source": [
    "qa_chain = RetrievalQA.from_chain_type(\n",
    "    llm=llm, chain_type=\"stuff\", retriever=vector_db_reddit.as_retriever(search_kwargs={\"k\": 4}), return_source_documents=True, verbose=True\n",
    ")\n",
    "#vector_db.as_retriever(search_kwargs={\"k\": 4})"
   ]
  },
  {
   "cell_type": "code",
   "execution_count": 68,
   "metadata": {
    "colab": {
     "base_uri": "https://localhost:8080/"
    },
    "id": "M29LgLE4CZeZ",
    "outputId": "9306c775-08e7-4189-e6bd-ec185852aba8"
   },
   "outputs": [
    {
     "name": "stdout",
     "output_type": "stream",
     "text": [
      "\n",
      "\n",
      "\u001b[1m> Entering new RetrievalQA chain...\u001b[0m\n",
      "huggingface/tokenizers: The current process just got forked, after parallelism has already been used. Disabling parallelism to avoid deadlocks...\n",
      "To disable this warning, you can either:\n",
      "\t- Avoid using `tokenizers` before the fork if possible\n",
      "\t- Explicitly set the environment variable TOKENIZERS_PARALLELISM=(true | false)\n",
      "\n",
      "\u001b[1m> Finished chain.\u001b[0m\n"
     ]
    },
    {
     "name": "stderr",
     "output_type": "stream",
     "text": [
      "/Users/kanchanapadmanabhan/Documents/dev/pagmarketing/rag_app_v2/venv/lib/python3.11/site-packages/langchain/chat_models/azure_openai.py:246: PydanticDeprecatedSince20: The `dict` method is deprecated; use `model_dump` instead. Deprecated in Pydantic V2.0 to be removed in V3.0. See Pydantic V2 Migration Guide at https://errors.pydantic.dev/2.5/migration/\n",
      "  response = response.dict()\n",
      "/Users/kanchanapadmanabhan/Documents/dev/pagmarketing/rag_app_v2/venv/lib/python3.11/site-packages/pydantic/main.py:979: PydanticDeprecatedSince20: The `dict` method is deprecated; use `model_dump` instead. Deprecated in Pydantic V2.0 to be removed in V3.0. See Pydantic V2 Migration Guide at https://errors.pydantic.dev/2.5/migration/\n",
      "  warnings.warn('The `dict` method is deprecated; use `model_dump` instead.', DeprecationWarning)\n"
     ]
    }
   ],
   "source": [
    "response = qa_chain(\"What is flu?\")"
   ]
  },
  {
   "cell_type": "code",
   "execution_count": 69,
   "metadata": {},
   "outputs": [
    {
     "data": {
      "text/plain": [
       "{'query': 'What is flu?',\n",
       " 'result': 'The flu, or influenza, is a contagious respiratory illness caused by influenza viruses. It can cause mild to severe illness and can be particularly dangerous for certain populations, such as young children, older adults, and individuals with underlying health conditions. Symptoms can include fever, cough, sore throat, muscle aches, and fatigue.',\n",
       " 'source_documents': [Document(page_content='Particular-Ad3934##flu##Whats flu B'),\n",
       "  Document(page_content='CantoErgoSum##HPV##Covid IS NOT \"just a flu.\" It\\'s a CORONAVIRUS which most respiratory diseases are. It\\'s a severe and novel and ever-changing virus with no cure and very little mitigation in place.'),\n",
       "  Document(page_content='anthropocene-##flu##I’m laid up in bed and my body is so fatigued with this flu. I thought I would just track how I’m feeling here each day.\\n\\nI don’t know when I started having the flu but it could’ve been any day last week maybe Monday. Which means I’ve had it for about eight days. It’s weird because usually when I get sick with the flu I get absolutely floored right away but I worked all last week and just felt a little more groggy in the mornings. And like I had cough and sne'),\n",
       "  Document(page_content='sp00kens_##flu##Uhhh day 2/3 (it’s 2:23 am where I am: can’t sleep). Idek if it’s flu, but it’s not covid, and if it’s a cold it’s sure a helluva cold. I am ready to rot away forever tho fr')]}"
      ]
     },
     "execution_count": 69,
     "metadata": {},
     "output_type": "execute_result"
    }
   ],
   "source": [
    "response"
   ]
  },
  {
   "cell_type": "code",
   "execution_count": 238,
   "metadata": {
    "colab": {
     "base_uri": "https://localhost:8080/"
    },
    "id": "Lc-MYuQnCctC",
    "outputId": "aa56a402-392f-47b3-e784-e4aa9925edb5"
   },
   "outputs": [
    {
     "data": {
      "text/plain": [
       "['Sarah.',\n",
       " \"Hi, my name is Sarah and I was recently diagnosed with Hairy Cell Leukemia. It's been a tough journey, but I'm grateful for the support of my family and medical team.\\n\\nThe first sign that something was wrong was when I noticed that I was always tired. At first, I thought it was because of work, but even on my days off, I felt exhausted. I went to the doctor and after a series of tests, I was diagnosed with Hairy Cell Leukemia.\\n\\nMy medical team immediately started me on treatment with cladribine, a chemotherapy drug that specifically targets the abnormal\"]"
      ]
     },
     "execution_count": 238,
     "metadata": {},
     "output_type": "execute_result"
    }
   ],
   "source": [
    "dict(response['source_documents'][0])['page_content'].split(\"##\")"
   ]
  },
  {
   "cell_type": "code",
   "execution_count": 239,
   "metadata": {},
   "outputs": [],
   "source": [
    "name_value, content = dict(response['source_documents'][0])['page_content'].split(\"##\")"
   ]
  },
  {
   "cell_type": "code",
   "execution_count": null,
   "metadata": {},
   "outputs": [],
   "source": [
    "df[df['A'].str.contains(\"Hello|Britain\")==True]"
   ]
  },
  {
   "cell_type": "code",
   "execution_count": 244,
   "metadata": {},
   "outputs": [
    {
     "data": {
      "text/html": [
       "<div>\n",
       "<style scoped>\n",
       "    .dataframe tbody tr th:only-of-type {\n",
       "        vertical-align: middle;\n",
       "    }\n",
       "\n",
       "    .dataframe tbody tr th {\n",
       "        vertical-align: top;\n",
       "    }\n",
       "\n",
       "    .dataframe thead th {\n",
       "        text-align: right;\n",
       "    }\n",
       "</style>\n",
       "<table border=\"1\" class=\"dataframe\">\n",
       "  <thead>\n",
       "    <tr style=\"text-align: right;\">\n",
       "      <th></th>\n",
       "      <th>Story</th>\n",
       "      <th>Name</th>\n",
       "      <th>Name_clean</th>\n",
       "    </tr>\n",
       "  </thead>\n",
       "  <tbody>\n",
       "    <tr>\n",
       "      <th>48</th>\n",
       "      <td>Hi, my name is Sarah and I was recently diagno...</td>\n",
       "      <td>The patient's name is Sarah.</td>\n",
       "      <td>Sarah.</td>\n",
       "    </tr>\n",
       "  </tbody>\n",
       "</table>\n",
       "</div>"
      ],
      "text/plain": [
       "                                                Story  \\\n",
       "48  Hi, my name is Sarah and I was recently diagno...   \n",
       "\n",
       "                            Name Name_clean  \n",
       "48  The patient's name is Sarah.     Sarah.  "
      ]
     },
     "execution_count": 244,
     "metadata": {},
     "output_type": "execute_result"
    }
   ],
   "source": [
    "data[(data.Name_clean == name_value) & (data['Story'].str.contains(content)==True)]"
   ]
  },
  {
   "cell_type": "code",
   "execution_count": 253,
   "metadata": {},
   "outputs": [],
   "source": [
    "rows = []\n",
    "for source in response['source_documents']:\n",
    "    name_value, content = dict(source)['page_content'].split(\"##\")\n",
    "    df = data[(data.Name_clean == name_value) & (data['Story'].str.contains(content)==True)].copy()\n",
    "    df['excerpt'] = content\n",
    "    rows.append(df)\n",
    "\n",
    "row_df = pd.concat(rows)\n",
    "    "
   ]
  },
  {
   "cell_type": "code",
   "execution_count": 254,
   "metadata": {
    "id": "IqbTmVIIFUW8"
   },
   "outputs": [],
   "source": [
    "row_df.drop_duplicates(inplace=True)"
   ]
  },
  {
   "cell_type": "code",
   "execution_count": 256,
   "metadata": {},
   "outputs": [
    {
     "data": {
      "text/plain": [
       "Story         Hi, my name is Sarah and I was recently diagno...\n",
       "Name                               The patient's name is Sarah.\n",
       "Name_clean                                               Sarah.\n",
       "excerpt       Hi, my name is Sarah and I was recently diagno...\n",
       "Name: 48, dtype: object"
      ]
     },
     "execution_count": 256,
     "metadata": {},
     "output_type": "execute_result"
    }
   ],
   "source": [
    "row_df.iloc[0]['"
   ]
  },
  {
   "cell_type": "code",
   "execution_count": 63,
   "metadata": {
    "id": "iOrXDrjrEs49"
   },
   "outputs": [],
   "source": [
    "memory = ConversationBufferMemory(memory_key=\"chat_history\", input_key='input', return_messages=True, output_key='output')"
   ]
  },
  {
   "cell_type": "code",
   "execution_count": 64,
   "metadata": {
    "id": "t6e7OsF9E1I9"
   },
   "outputs": [],
   "source": [
    "system_message = \"\"\"\n",
    "\"You are the XYZ bot.\"\n",
    "\"This is conversation with a human. Answer the questions you get based on the knowledge you have.\"\n",
    "\"If you don't know the answer, just say that you don't, don't try to make up an answer.\"\n",
    "\"\"\""
   ]
  },
  {
   "cell_type": "code",
   "execution_count": 65,
   "metadata": {
    "id": "b3bSB40dDucd"
   },
   "outputs": [],
   "source": [
    "tools = [\n",
    "        Tool(\n",
    "            name=\"doc_search_tool\",\n",
    "            func=qa_chain,\n",
    "            description=(\n",
    "               \"This tool is used to retrieve information from the knowledge base\"\n",
    "            )\n",
    "        )\n",
    "    ]\n",
    "\n",
    "# agent = initialize_agent(\n",
    "#         agent = AgentType.CHAT_CONVERSATIONAL_REACT_DESCRIPTION,\n",
    "#         tools=tools,\n",
    "#         llm=llm,\n",
    "#         memory=memory,\n",
    "#         return_source_documents=True,\n",
    "#         return_intermediate_steps=True,\n",
    "#         agent_kwargs={\"system_message\": system_message}\n",
    "#         )\n",
    "agent = initialize_agent(\n",
    "        agent = AgentType.CHAT_CONVERSATIONAL_REACT_DESCRIPTION,\n",
    "        tools=tools,\n",
    "        llm=llm,\n",
    "        memory=memory,\n",
    "        return_source_documents=True,\n",
    "        return_intermediate_steps=True,\n",
    "        agent_kwargs={\"system_message\": system_message}\n",
    "        )"
   ]
  },
  {
   "cell_type": "code",
   "execution_count": 66,
   "metadata": {
    "colab": {
     "base_uri": "https://localhost:8080/",
     "height": 792
    },
    "id": "HWf_UbZEE2lU",
    "outputId": "be8f8763-ef39-4f5d-c0f5-779419ce6a6b"
   },
   "outputs": [
    {
     "name": "stderr",
     "output_type": "stream",
     "text": [
      "/Users/kanchanapadmanabhan/Documents/dev/pagmarketing/rag_app_v2/venv/lib/python3.11/site-packages/langchain/chat_models/azure_openai.py:246: PydanticDeprecatedSince20: The `dict` method is deprecated; use `model_dump` instead. Deprecated in Pydantic V2.0 to be removed in V3.0. See Pydantic V2 Migration Guide at https://errors.pydantic.dev/2.5/migration/\n",
      "  response = response.dict()\n",
      "/Users/kanchanapadmanabhan/Documents/dev/pagmarketing/rag_app_v2/venv/lib/python3.11/site-packages/pydantic/main.py:979: PydanticDeprecatedSince20: The `dict` method is deprecated; use `model_dump` instead. Deprecated in Pydantic V2.0 to be removed in V3.0. See Pydantic V2 Migration Guide at https://errors.pydantic.dev/2.5/migration/\n",
      "  warnings.warn('The `dict` method is deprecated; use `model_dump` instead.', DeprecationWarning)\n"
     ]
    },
    {
     "name": "stdout",
     "output_type": "stream",
     "text": [
      "\n",
      "\n",
      "\u001b[1m> Entering new RetrievalQA chain...\u001b[0m\n"
     ]
    },
    {
     "name": "stderr",
     "output_type": "stream",
     "text": [
      "/Users/kanchanapadmanabhan/Documents/dev/pagmarketing/rag_app_v2/venv/lib/python3.11/site-packages/langchain/chat_models/azure_openai.py:246: PydanticDeprecatedSince20: The `dict` method is deprecated; use `model_dump` instead. Deprecated in Pydantic V2.0 to be removed in V3.0. See Pydantic V2 Migration Guide at https://errors.pydantic.dev/2.5/migration/\n",
      "  response = response.dict()\n",
      "/Users/kanchanapadmanabhan/Documents/dev/pagmarketing/rag_app_v2/venv/lib/python3.11/site-packages/pydantic/main.py:979: PydanticDeprecatedSince20: The `dict` method is deprecated; use `model_dump` instead. Deprecated in Pydantic V2.0 to be removed in V3.0. See Pydantic V2 Migration Guide at https://errors.pydantic.dev/2.5/migration/\n",
      "  warnings.warn('The `dict` method is deprecated; use `model_dump` instead.', DeprecationWarning)\n"
     ]
    },
    {
     "name": "stdout",
     "output_type": "stream",
     "text": [
      "\n",
      "\u001b[1m> Finished chain.\u001b[0m\n"
     ]
    },
    {
     "name": "stderr",
     "output_type": "stream",
     "text": [
      "/Users/kanchanapadmanabhan/Documents/dev/pagmarketing/rag_app_v2/venv/lib/python3.11/site-packages/langchain/chat_models/azure_openai.py:246: PydanticDeprecatedSince20: The `dict` method is deprecated; use `model_dump` instead. Deprecated in Pydantic V2.0 to be removed in V3.0. See Pydantic V2 Migration Guide at https://errors.pydantic.dev/2.5/migration/\n",
      "  response = response.dict()\n",
      "/Users/kanchanapadmanabhan/Documents/dev/pagmarketing/rag_app_v2/venv/lib/python3.11/site-packages/pydantic/main.py:979: PydanticDeprecatedSince20: The `dict` method is deprecated; use `model_dump` instead. Deprecated in Pydantic V2.0 to be removed in V3.0. See Pydantic V2 Migration Guide at https://errors.pydantic.dev/2.5/migration/\n",
      "  warnings.warn('The `dict` method is deprecated; use `model_dump` instead.', DeprecationWarning)\n"
     ]
    }
   ],
   "source": [
    "result1 = agent(\"What are side effects of hairy cell leukemia?\")"
   ]
  },
  {
   "cell_type": "code",
   "execution_count": 39,
   "metadata": {
    "id": "9g62ATwUE9Cc"
   },
   "outputs": [
    {
     "name": "stderr",
     "output_type": "stream",
     "text": [
      "/Users/kanchanapadmanabhan/Documents/dev/pagmarketing/rag_app_v2/venv/lib/python3.11/site-packages/langchain/chat_models/azure_openai.py:246: PydanticDeprecatedSince20: The `dict` method is deprecated; use `model_dump` instead. Deprecated in Pydantic V2.0 to be removed in V3.0. See Pydantic V2 Migration Guide at https://errors.pydantic.dev/2.5/migration/\n",
      "  response = response.dict()\n",
      "/Users/kanchanapadmanabhan/Documents/dev/pagmarketing/rag_app_v2/venv/lib/python3.11/site-packages/pydantic/main.py:979: PydanticDeprecatedSince20: The `dict` method is deprecated; use `model_dump` instead. Deprecated in Pydantic V2.0 to be removed in V3.0. See Pydantic V2 Migration Guide at https://errors.pydantic.dev/2.5/migration/\n",
      "  warnings.warn('The `dict` method is deprecated; use `model_dump` instead.', DeprecationWarning)\n"
     ]
    },
    {
     "name": "stdout",
     "output_type": "stream",
     "text": [
      "\n",
      "\n",
      "\u001b[1m> Entering new RetrievalQA chain...\u001b[0m\n"
     ]
    },
    {
     "name": "stderr",
     "output_type": "stream",
     "text": [
      "/Users/kanchanapadmanabhan/Documents/dev/pagmarketing/rag_app_v2/venv/lib/python3.11/site-packages/langchain/chat_models/azure_openai.py:246: PydanticDeprecatedSince20: The `dict` method is deprecated; use `model_dump` instead. Deprecated in Pydantic V2.0 to be removed in V3.0. See Pydantic V2 Migration Guide at https://errors.pydantic.dev/2.5/migration/\n",
      "  response = response.dict()\n",
      "/Users/kanchanapadmanabhan/Documents/dev/pagmarketing/rag_app_v2/venv/lib/python3.11/site-packages/pydantic/main.py:979: PydanticDeprecatedSince20: The `dict` method is deprecated; use `model_dump` instead. Deprecated in Pydantic V2.0 to be removed in V3.0. See Pydantic V2 Migration Guide at https://errors.pydantic.dev/2.5/migration/\n",
      "  warnings.warn('The `dict` method is deprecated; use `model_dump` instead.', DeprecationWarning)\n"
     ]
    },
    {
     "name": "stdout",
     "output_type": "stream",
     "text": [
      "\n",
      "\u001b[1m> Finished chain.\u001b[0m\n"
     ]
    },
    {
     "name": "stderr",
     "output_type": "stream",
     "text": [
      "/Users/kanchanapadmanabhan/Documents/dev/pagmarketing/rag_app_v2/venv/lib/python3.11/site-packages/langchain/chat_models/azure_openai.py:246: PydanticDeprecatedSince20: The `dict` method is deprecated; use `model_dump` instead. Deprecated in Pydantic V2.0 to be removed in V3.0. See Pydantic V2 Migration Guide at https://errors.pydantic.dev/2.5/migration/\n",
      "  response = response.dict()\n",
      "/Users/kanchanapadmanabhan/Documents/dev/pagmarketing/rag_app_v2/venv/lib/python3.11/site-packages/pydantic/main.py:979: PydanticDeprecatedSince20: The `dict` method is deprecated; use `model_dump` instead. Deprecated in Pydantic V2.0 to be removed in V3.0. See Pydantic V2 Migration Guide at https://errors.pydantic.dev/2.5/migration/\n",
      "  warnings.warn('The `dict` method is deprecated; use `model_dump` instead.', DeprecationWarning)\n"
     ]
    },
    {
     "data": {
      "text/plain": [
       "{'input': 'Can you refine to single list',\n",
       " 'chat_history': [HumanMessage(content='What are side effects of kidney cancer?'),\n",
       "  AIMessage(content='The side effects of kidney cancer can include lower back pain, blood in the urine, fatigue, weight loss, and swelling in the ankles or legs. Treatment options, such as surgery, chemotherapy, targeted therapy, or radiation therapy, can also cause side effects such as nausea, vomiting, hair loss, and fatigue. However, it is important to note that not all patients may experience all of these side effects and their severity can vary from person to person.'),\n",
       "  HumanMessage(content='Can you refine to single list'),\n",
       "  AIMessage(content=\"The common symptoms of kidney cancer include:\\n- Blood in urine\\n- Lower back pain or pain on one side of the body\\n- Unintentional weight loss\\n- Fatigue\\n- Loss of appetite\\n- Persistent fever\\n\\nThe side effects of kidney cancer treatment, such as chemotherapy, radiation therapy, and surgery, can vary depending on the patient's health and type of treatment. Some common side effects include:\\n- Fatigue\\n- Nausea and vomiting\\n- Hair loss\\n- Loss of appetite\\n- Mouth sores\\n- Skin changes\\n- Weakness or numbness in the affected area\\n- Pain or discomfort at the site of surgery\\n- Fluid buildup in the body\\n\\nIt's important to talk to your doctor about any symptoms or side effects you may be experiencing during your treatment. They can work with you to manage your symptoms and improve your quality of life.\")],\n",
       " 'output': \"The common symptoms of kidney cancer include:\\n- Blood in urine\\n- Lower back pain or pain on one side of the body\\n- Unintentional weight loss\\n- Fatigue\\n- Loss of appetite\\n- Persistent fever\\n\\nThe side effects of kidney cancer treatment, such as chemotherapy, radiation therapy, and surgery, can vary depending on the patient's health and type of treatment. Some common side effects include:\\n- Fatigue\\n- Nausea and vomiting\\n- Hair loss\\n- Loss of appetite\\n- Mouth sores\\n- Skin changes\\n- Weakness or numbness in the affected area\\n- Pain or discomfort at the site of surgery\\n- Fluid buildup in the body\\n\\nIt's important to talk to your doctor about any symptoms or side effects you may be experiencing during your treatment. They can work with you to manage your symptoms and improve your quality of life.\",\n",
       " 'intermediate_steps': [(AgentAction(tool='doc_search_tool', tool_input='kidney cancer symptoms and side effects', log='{\\n    \"action\": \"doc_search_tool\",\\n    \"action_input\": \"kidney cancer symptoms and side effects\"\\n}'),\n",
       "   {'query': 'kidney cancer symptoms and side effects',\n",
       "    'result': \"The common symptoms of kidney cancer include:\\n- Blood in urine\\n- Lower back pain or pain on one side of the body\\n- Unintentional weight loss\\n- Fatigue\\n- Loss of appetite\\n- Persistent fever\\n\\nThe side effects of kidney cancer treatment, such as chemotherapy, radiation therapy, and surgery, can vary depending on the patient's health and type of treatment. Some common side effects include:\\n- Fatigue\\n- Nausea and vomiting\\n- Hair loss\\n- Loss of appetite\\n- Mouth sores\\n- Skin changes\\n- Weakness or numbness in the affected area\\n- Pain or discomfort at the site of surgery\\n- Fluid buildup in the body\\n\\nIt's important to talk to your doctor about any symptoms or side effects you may be experiencing during your treatment. They can work with you to manage your symptoms and improve your quality of life.\",\n",
       "    'source_documents': [Document(page_content='Patient Name: Lisa##Patient Name: Lisa\\n\\nLisa was diagnosed with kidney cancer two years ago after experiencing lower back pain and blood in her urine. She was scared and overwhelmed with the news, but her family and doctor reassured her that they would do everything they could to help her fight the disease.\\n\\nLisa underwent surgery to remove the affected kidney and was prescribed a course of chemotherapy to help kill any remaining cancer cells in her body. She experienced a range of side effects, including fatigue, nausea, and hair loss, but her oncologist worked closely with her to adjust her treatment plan and manage her symptoms.\\n'),\n",
       "     Document(page_content=\"The patient's name is Linda.## side effects from chemotherapy, but she's gradually getting better. She feels grateful for the treatment she received, and she's optimistic about her future.\\n\\nIn conclusion, Linda's experience with kidney cancer has been challenging, but she's doing her best to overcome it. She's grateful for the support of her loved ones and the medical professionals who helped her along the way. Linda's story is an inspiration to many others who are fighting against cancer.\"),\n",
       "     Document(page_content=\"The patient's name is John.##Meet John, a 52-year-old man who was recently diagnosed with kidney cancer. John has been feeling unwell for a while, and he visited his doctor who referred him to an oncologist. After several tests, he was diagnosed with renal cell carcinoma, which had spread to his lymph nodes.\\n\\nJohn has been on a rollercoaster of emotions since his diagnosis. Initially, he felt numb, shocked and scared, but he has gradually learned to cope with the situation. He is grateful for his family's support and the great care he is receiving from his healthcare team.\"),\n",
       "     Document(page_content=\"The patient's name is John.## to remove his affected kidney and lymph nodes. After the surgery, he was put on chemotherapy and radiation to ensure that all the cancer cells were eradicated. John experienced a lot of side effects from the drugs, including nausea, fatigue, and hair loss. However, he is determined to fight the disease and return to his normal life.\\n\\nJohn's treatment is ongoing, and he is still attending regular check-ups with his doctor. He is also taking medication to manage his pain, and he finds that it helps him feel more comfortable. John is grateful for the support and care he receives from\")]})]}"
      ]
     },
     "execution_count": 39,
     "metadata": {},
     "output_type": "execute_result"
    }
   ],
   "source": [
    "agent(\"Can you refine to single list\")"
   ]
  }
 ],
 "metadata": {
  "accelerator": "GPU",
  "colab": {
   "gpuType": "T4",
   "provenance": []
  },
  "kernelspec": {
   "display_name": "Python 3 (ipykernel)",
   "language": "python",
   "name": "python3"
  },
  "language_info": {
   "codemirror_mode": {
    "name": "ipython",
    "version": 3
   },
   "file_extension": ".py",
   "mimetype": "text/x-python",
   "name": "python",
   "nbconvert_exporter": "python",
   "pygments_lexer": "ipython3",
   "version": "3.11.4"
  },
  "widgets": {
   "application/vnd.jupyter.widget-state+json": {
    "0635039fc1bf4e8385b610b2e821d337": {
     "model_module": "@jupyter-widgets/base",
     "model_module_version": "1.2.0",
     "model_name": "LayoutModel",
     "state": {
      "_model_module": "@jupyter-widgets/base",
      "_model_module_version": "1.2.0",
      "_model_name": "LayoutModel",
      "_view_count": null,
      "_view_module": "@jupyter-widgets/base",
      "_view_module_version": "1.2.0",
      "_view_name": "LayoutView",
      "align_content": null,
      "align_items": null,
      "align_self": null,
      "border": null,
      "bottom": null,
      "display": null,
      "flex": null,
      "flex_flow": null,
      "grid_area": null,
      "grid_auto_columns": null,
      "grid_auto_flow": null,
      "grid_auto_rows": null,
      "grid_column": null,
      "grid_gap": null,
      "grid_row": null,
      "grid_template_areas": null,
      "grid_template_columns": null,
      "grid_template_rows": null,
      "height": null,
      "justify_content": null,
      "justify_items": null,
      "left": null,
      "margin": null,
      "max_height": null,
      "max_width": null,
      "min_height": null,
      "min_width": null,
      "object_fit": null,
      "object_position": null,
      "order": null,
      "overflow": null,
      "overflow_x": null,
      "overflow_y": null,
      "padding": null,
      "right": null,
      "top": null,
      "visibility": null,
      "width": null
     }
    },
    "632d7836000748c2a9180971b0bb16cb": {
     "model_module": "@jupyter-widgets/base",
     "model_module_version": "1.2.0",
     "model_name": "LayoutModel",
     "state": {
      "_model_module": "@jupyter-widgets/base",
      "_model_module_version": "1.2.0",
      "_model_name": "LayoutModel",
      "_view_count": null,
      "_view_module": "@jupyter-widgets/base",
      "_view_module_version": "1.2.0",
      "_view_name": "LayoutView",
      "align_content": null,
      "align_items": null,
      "align_self": null,
      "border": null,
      "bottom": null,
      "display": null,
      "flex": null,
      "flex_flow": null,
      "grid_area": null,
      "grid_auto_columns": null,
      "grid_auto_flow": null,
      "grid_auto_rows": null,
      "grid_column": null,
      "grid_gap": null,
      "grid_row": null,
      "grid_template_areas": null,
      "grid_template_columns": null,
      "grid_template_rows": null,
      "height": null,
      "justify_content": null,
      "justify_items": null,
      "left": null,
      "margin": null,
      "max_height": null,
      "max_width": null,
      "min_height": null,
      "min_width": null,
      "object_fit": null,
      "object_position": null,
      "order": null,
      "overflow": null,
      "overflow_x": null,
      "overflow_y": null,
      "padding": null,
      "right": null,
      "top": null,
      "visibility": null,
      "width": null
     }
    },
    "64ab742910744170bd89317551c16983": {
     "model_module": "@jupyter-widgets/base",
     "model_module_version": "1.2.0",
     "model_name": "LayoutModel",
     "state": {
      "_model_module": "@jupyter-widgets/base",
      "_model_module_version": "1.2.0",
      "_model_name": "LayoutModel",
      "_view_count": null,
      "_view_module": "@jupyter-widgets/base",
      "_view_module_version": "1.2.0",
      "_view_name": "LayoutView",
      "align_content": null,
      "align_items": null,
      "align_self": null,
      "border": null,
      "bottom": null,
      "display": null,
      "flex": null,
      "flex_flow": null,
      "grid_area": null,
      "grid_auto_columns": null,
      "grid_auto_flow": null,
      "grid_auto_rows": null,
      "grid_column": null,
      "grid_gap": null,
      "grid_row": null,
      "grid_template_areas": null,
      "grid_template_columns": null,
      "grid_template_rows": null,
      "height": null,
      "justify_content": null,
      "justify_items": null,
      "left": null,
      "margin": null,
      "max_height": null,
      "max_width": null,
      "min_height": null,
      "min_width": null,
      "object_fit": null,
      "object_position": null,
      "order": null,
      "overflow": null,
      "overflow_x": null,
      "overflow_y": null,
      "padding": null,
      "right": null,
      "top": null,
      "visibility": null,
      "width": null
     }
    },
    "84a185a47e254158ae9f7f492ae02fa8": {
     "model_module": "@jupyter-widgets/controls",
     "model_module_version": "1.5.0",
     "model_name": "HBoxModel",
     "state": {
      "_dom_classes": [],
      "_model_module": "@jupyter-widgets/controls",
      "_model_module_version": "1.5.0",
      "_model_name": "HBoxModel",
      "_view_count": null,
      "_view_module": "@jupyter-widgets/controls",
      "_view_module_version": "1.5.0",
      "_view_name": "HBoxView",
      "box_style": "",
      "children": [
       "IPY_MODEL_d308ecc2e23e4a378e9cc7ff5211dc3c",
       "IPY_MODEL_e10854f16f7c4e7faa88ca52c3b18fe1",
       "IPY_MODEL_b581a351180f4a1ea9248d71c457e5dd"
      ],
      "layout": "IPY_MODEL_64ab742910744170bd89317551c16983"
     }
    },
    "b581a351180f4a1ea9248d71c457e5dd": {
     "model_module": "@jupyter-widgets/controls",
     "model_module_version": "1.5.0",
     "model_name": "HTMLModel",
     "state": {
      "_dom_classes": [],
      "_model_module": "@jupyter-widgets/controls",
      "_model_module_version": "1.5.0",
      "_model_name": "HTMLModel",
      "_view_count": null,
      "_view_module": "@jupyter-widgets/controls",
      "_view_module_version": "1.5.0",
      "_view_name": "HTMLView",
      "description": "",
      "description_tooltip": null,
      "layout": "IPY_MODEL_632d7836000748c2a9180971b0bb16cb",
      "placeholder": "​",
      "style": "IPY_MODEL_b9b752bca85d4c67b94acce7799eb3b8",
      "value": " 1/15 [00:08&lt;02:04,  8.91s/it]"
     }
    },
    "b60bae131e7c4c598221192dd0bf9575": {
     "model_module": "@jupyter-widgets/controls",
     "model_module_version": "1.5.0",
     "model_name": "ProgressStyleModel",
     "state": {
      "_model_module": "@jupyter-widgets/controls",
      "_model_module_version": "1.5.0",
      "_model_name": "ProgressStyleModel",
      "_view_count": null,
      "_view_module": "@jupyter-widgets/base",
      "_view_module_version": "1.2.0",
      "_view_name": "StyleView",
      "bar_color": null,
      "description_width": ""
     }
    },
    "b9b752bca85d4c67b94acce7799eb3b8": {
     "model_module": "@jupyter-widgets/controls",
     "model_module_version": "1.5.0",
     "model_name": "DescriptionStyleModel",
     "state": {
      "_model_module": "@jupyter-widgets/controls",
      "_model_module_version": "1.5.0",
      "_model_name": "DescriptionStyleModel",
      "_view_count": null,
      "_view_module": "@jupyter-widgets/base",
      "_view_module_version": "1.2.0",
      "_view_name": "StyleView",
      "description_width": ""
     }
    },
    "d308ecc2e23e4a378e9cc7ff5211dc3c": {
     "model_module": "@jupyter-widgets/controls",
     "model_module_version": "1.5.0",
     "model_name": "HTMLModel",
     "state": {
      "_dom_classes": [],
      "_model_module": "@jupyter-widgets/controls",
      "_model_module_version": "1.5.0",
      "_model_name": "HTMLModel",
      "_view_count": null,
      "_view_module": "@jupyter-widgets/controls",
      "_view_module_version": "1.5.0",
      "_view_name": "HTMLView",
      "description": "",
      "description_tooltip": null,
      "layout": "IPY_MODEL_0635039fc1bf4e8385b610b2e821d337",
      "placeholder": "​",
      "style": "IPY_MODEL_d8fdf0dbcf4c4f1c9fb6404849a3c1b0",
      "value": "Loading checkpoint shards:   7%"
     }
    },
    "d7076616114547709f55a2b6dadd5b47": {
     "model_module": "@jupyter-widgets/base",
     "model_module_version": "1.2.0",
     "model_name": "LayoutModel",
     "state": {
      "_model_module": "@jupyter-widgets/base",
      "_model_module_version": "1.2.0",
      "_model_name": "LayoutModel",
      "_view_count": null,
      "_view_module": "@jupyter-widgets/base",
      "_view_module_version": "1.2.0",
      "_view_name": "LayoutView",
      "align_content": null,
      "align_items": null,
      "align_self": null,
      "border": null,
      "bottom": null,
      "display": null,
      "flex": null,
      "flex_flow": null,
      "grid_area": null,
      "grid_auto_columns": null,
      "grid_auto_flow": null,
      "grid_auto_rows": null,
      "grid_column": null,
      "grid_gap": null,
      "grid_row": null,
      "grid_template_areas": null,
      "grid_template_columns": null,
      "grid_template_rows": null,
      "height": null,
      "justify_content": null,
      "justify_items": null,
      "left": null,
      "margin": null,
      "max_height": null,
      "max_width": null,
      "min_height": null,
      "min_width": null,
      "object_fit": null,
      "object_position": null,
      "order": null,
      "overflow": null,
      "overflow_x": null,
      "overflow_y": null,
      "padding": null,
      "right": null,
      "top": null,
      "visibility": null,
      "width": null
     }
    },
    "d8fdf0dbcf4c4f1c9fb6404849a3c1b0": {
     "model_module": "@jupyter-widgets/controls",
     "model_module_version": "1.5.0",
     "model_name": "DescriptionStyleModel",
     "state": {
      "_model_module": "@jupyter-widgets/controls",
      "_model_module_version": "1.5.0",
      "_model_name": "DescriptionStyleModel",
      "_view_count": null,
      "_view_module": "@jupyter-widgets/base",
      "_view_module_version": "1.2.0",
      "_view_name": "StyleView",
      "description_width": ""
     }
    },
    "e10854f16f7c4e7faa88ca52c3b18fe1": {
     "model_module": "@jupyter-widgets/controls",
     "model_module_version": "1.5.0",
     "model_name": "FloatProgressModel",
     "state": {
      "_dom_classes": [],
      "_model_module": "@jupyter-widgets/controls",
      "_model_module_version": "1.5.0",
      "_model_name": "FloatProgressModel",
      "_view_count": null,
      "_view_module": "@jupyter-widgets/controls",
      "_view_module_version": "1.5.0",
      "_view_name": "ProgressView",
      "bar_style": "",
      "description": "",
      "description_tooltip": null,
      "layout": "IPY_MODEL_d7076616114547709f55a2b6dadd5b47",
      "max": 15,
      "min": 0,
      "orientation": "horizontal",
      "style": "IPY_MODEL_b60bae131e7c4c598221192dd0bf9575",
      "value": 1
     }
    }
   }
  }
 },
 "nbformat": 4,
 "nbformat_minor": 4
}
